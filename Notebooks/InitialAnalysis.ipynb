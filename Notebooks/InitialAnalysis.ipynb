{
 "cells": [
  {
   "cell_type": "code",
   "execution_count": 1,
   "metadata": {},
   "outputs": [
    {
     "name": "stdout",
     "output_type": "stream",
     "text": [
      "Populating the interactive namespace from numpy and matplotlib\n"
     ]
    }
   ],
   "source": [
    "import os\n",
    "import pandas as pd\n",
    "import matplotlib.pyplot as plt\n",
    "%pylab inline\n",
    "import seaborn as sns\n",
    "from sklearn.decomposition import PCA"
   ]
  },
  {
   "cell_type": "markdown",
   "metadata": {},
   "source": [
    "Load data"
   ]
  },
  {
   "cell_type": "code",
   "execution_count": 2,
   "metadata": {},
   "outputs": [],
   "source": [
    "os.chdir('../../../Rat-Pilot/data/tag_directories/')"
   ]
  },
  {
   "cell_type": "code",
   "execution_count": 3,
   "metadata": {},
   "outputs": [
    {
     "data": {
      "text/html": [
       "<div>\n",
       "<style scoped>\n",
       "    .dataframe tbody tr th:only-of-type {\n",
       "        vertical-align: middle;\n",
       "    }\n",
       "\n",
       "    .dataframe tbody tr th {\n",
       "        vertical-align: top;\n",
       "    }\n",
       "\n",
       "    .dataframe thead th {\n",
       "        text-align: right;\n",
       "    }\n",
       "</style>\n",
       "<table border=\"1\" class=\"dataframe\">\n",
       "  <thead>\n",
       "    <tr style=\"text-align: right;\">\n",
       "      <th></th>\n",
       "      <th>PeakID</th>\n",
       "      <th>Chr</th>\n",
       "      <th>Start</th>\n",
       "      <th>End</th>\n",
       "      <th>Annotation</th>\n",
       "      <th>H3K27ac1-IL</th>\n",
       "      <th>H3K27ac2-PL</th>\n",
       "      <th>H3K27ac4-ST</th>\n",
       "      <th>H3K27ac5-AC</th>\n",
       "      <th>H3K27ac6-AS</th>\n",
       "      <th>H3K27ac7-VTA</th>\n",
       "    </tr>\n",
       "  </thead>\n",
       "  <tbody>\n",
       "    <tr>\n",
       "      <th>0</th>\n",
       "      <td>Merged-chr4-77447614-7</td>\n",
       "      <td>chr4</td>\n",
       "      <td>77446325</td>\n",
       "      <td>77448719</td>\n",
       "      <td>intergenic</td>\n",
       "      <td>11.486580</td>\n",
       "      <td>11.592882</td>\n",
       "      <td>11.369450</td>\n",
       "      <td>11.455429</td>\n",
       "      <td>11.541023</td>\n",
       "      <td>11.206650</td>\n",
       "    </tr>\n",
       "    <tr>\n",
       "      <th>1</th>\n",
       "      <td>Merged-chr12-13804183-10</td>\n",
       "      <td>chr12</td>\n",
       "      <td>13798571</td>\n",
       "      <td>13812426</td>\n",
       "      <td>intergenic</td>\n",
       "      <td>10.518769</td>\n",
       "      <td>10.435693</td>\n",
       "      <td>10.974241</td>\n",
       "      <td>10.252431</td>\n",
       "      <td>10.399940</td>\n",
       "      <td>10.374023</td>\n",
       "    </tr>\n",
       "    <tr>\n",
       "      <th>2</th>\n",
       "      <td>Merged-chr12-38873382-8</td>\n",
       "      <td>chr12</td>\n",
       "      <td>38869851</td>\n",
       "      <td>38879308</td>\n",
       "      <td>intergenic</td>\n",
       "      <td>9.811939</td>\n",
       "      <td>9.805325</td>\n",
       "      <td>10.217660</td>\n",
       "      <td>9.469130</td>\n",
       "      <td>9.758923</td>\n",
       "      <td>9.933961</td>\n",
       "    </tr>\n",
       "    <tr>\n",
       "      <th>3</th>\n",
       "      <td>Merged-chr4-58505254-7</td>\n",
       "      <td>chr4</td>\n",
       "      <td>58501851</td>\n",
       "      <td>58509994</td>\n",
       "      <td>intergenic</td>\n",
       "      <td>9.317609</td>\n",
       "      <td>9.653931</td>\n",
       "      <td>10.054095</td>\n",
       "      <td>9.315937</td>\n",
       "      <td>9.290063</td>\n",
       "      <td>9.478464</td>\n",
       "    </tr>\n",
       "    <tr>\n",
       "      <th>4</th>\n",
       "      <td>Merged-chr6-110903817-6</td>\n",
       "      <td>chr6</td>\n",
       "      <td>110901168</td>\n",
       "      <td>110906468</td>\n",
       "      <td>exon</td>\n",
       "      <td>9.280835</td>\n",
       "      <td>9.398107</td>\n",
       "      <td>9.625998</td>\n",
       "      <td>8.983863</td>\n",
       "      <td>9.111870</td>\n",
       "      <td>9.107477</td>\n",
       "    </tr>\n",
       "  </tbody>\n",
       "</table>\n",
       "</div>"
      ],
      "text/plain": [
       "                     PeakID    Chr      Start        End  Annotation  \\\n",
       "0    Merged-chr4-77447614-7   chr4   77446325   77448719  intergenic   \n",
       "1  Merged-chr12-13804183-10  chr12   13798571   13812426  intergenic   \n",
       "2   Merged-chr12-38873382-8  chr12   38869851   38879308  intergenic   \n",
       "3    Merged-chr4-58505254-7   chr4   58501851   58509994  intergenic   \n",
       "4   Merged-chr6-110903817-6   chr6  110901168  110906468        exon   \n",
       "\n",
       "   H3K27ac1-IL  H3K27ac2-PL  H3K27ac4-ST  H3K27ac5-AC  H3K27ac6-AS  \\\n",
       "0    11.486580    11.592882    11.369450    11.455429    11.541023   \n",
       "1    10.518769    10.435693    10.974241    10.252431    10.399940   \n",
       "2     9.811939     9.805325    10.217660     9.469130     9.758923   \n",
       "3     9.317609     9.653931    10.054095     9.315937     9.290063   \n",
       "4     9.280835     9.398107     9.625998     8.983863     9.111870   \n",
       "\n",
       "   H3K27ac7-VTA  \n",
       "0     11.206650  \n",
       "1     10.374023  \n",
       "2      9.933961  \n",
       "3      9.478464  \n",
       "4      9.107477  "
      ]
     },
     "execution_count": 3,
     "metadata": {},
     "output_type": "execute_result"
    }
   ],
   "source": [
    "norm_exp = pd.read_csv('all_peaks.rlog.txt',sep='\\t')\n",
    "colnames = {norm_exp.columns[0]:'PeakID'}\n",
    "for col in norm_exp.columns[19:]:\n",
    "    colnames[col] = col.split()[0]\n",
    "norm_exp = norm_exp.rename(colnames,axis=1)\n",
    "norm_exp = norm_exp[['PeakID','Chr','Start','End','Annotation']+list(norm_exp.columns[19:])]\n",
    "norm_exp['Annotation'] = norm_exp.apply(lambda x: x[4].split()[0].lower(),axis=1)\n",
    "norm_exp.head()"
   ]
  },
  {
   "cell_type": "markdown",
   "metadata": {},
   "source": [
    "Limit to distal enhancers (intergenic and intron annotations for first pass)"
   ]
  },
  {
   "cell_type": "code",
   "execution_count": 4,
   "metadata": {},
   "outputs": [
    {
     "data": {
      "text/html": [
       "<div>\n",
       "<style scoped>\n",
       "    .dataframe tbody tr th:only-of-type {\n",
       "        vertical-align: middle;\n",
       "    }\n",
       "\n",
       "    .dataframe tbody tr th {\n",
       "        vertical-align: top;\n",
       "    }\n",
       "\n",
       "    .dataframe thead th {\n",
       "        text-align: right;\n",
       "    }\n",
       "</style>\n",
       "<table border=\"1\" class=\"dataframe\">\n",
       "  <thead>\n",
       "    <tr style=\"text-align: right;\">\n",
       "      <th></th>\n",
       "      <th>PeakID</th>\n",
       "      <th>Chr</th>\n",
       "      <th>Start</th>\n",
       "      <th>End</th>\n",
       "      <th>Annotation</th>\n",
       "      <th>H3K27ac1-IL</th>\n",
       "      <th>H3K27ac2-PL</th>\n",
       "      <th>H3K27ac4-ST</th>\n",
       "      <th>H3K27ac5-AC</th>\n",
       "      <th>H3K27ac6-AS</th>\n",
       "      <th>H3K27ac7-VTA</th>\n",
       "    </tr>\n",
       "  </thead>\n",
       "  <tbody>\n",
       "    <tr>\n",
       "      <th>0</th>\n",
       "      <td>Merged-chr4-77447614-7</td>\n",
       "      <td>chr4</td>\n",
       "      <td>77446325</td>\n",
       "      <td>77448719</td>\n",
       "      <td>intergenic</td>\n",
       "      <td>11.486580</td>\n",
       "      <td>11.592882</td>\n",
       "      <td>11.369450</td>\n",
       "      <td>11.455429</td>\n",
       "      <td>11.541023</td>\n",
       "      <td>11.206650</td>\n",
       "    </tr>\n",
       "    <tr>\n",
       "      <th>1</th>\n",
       "      <td>Merged-chr12-13804183-10</td>\n",
       "      <td>chr12</td>\n",
       "      <td>13798571</td>\n",
       "      <td>13812426</td>\n",
       "      <td>intergenic</td>\n",
       "      <td>10.518769</td>\n",
       "      <td>10.435693</td>\n",
       "      <td>10.974241</td>\n",
       "      <td>10.252431</td>\n",
       "      <td>10.399940</td>\n",
       "      <td>10.374023</td>\n",
       "    </tr>\n",
       "    <tr>\n",
       "      <th>2</th>\n",
       "      <td>Merged-chr12-38873382-8</td>\n",
       "      <td>chr12</td>\n",
       "      <td>38869851</td>\n",
       "      <td>38879308</td>\n",
       "      <td>intergenic</td>\n",
       "      <td>9.811939</td>\n",
       "      <td>9.805325</td>\n",
       "      <td>10.217660</td>\n",
       "      <td>9.469130</td>\n",
       "      <td>9.758923</td>\n",
       "      <td>9.933961</td>\n",
       "    </tr>\n",
       "    <tr>\n",
       "      <th>3</th>\n",
       "      <td>Merged-chr4-58505254-7</td>\n",
       "      <td>chr4</td>\n",
       "      <td>58501851</td>\n",
       "      <td>58509994</td>\n",
       "      <td>intergenic</td>\n",
       "      <td>9.317609</td>\n",
       "      <td>9.653931</td>\n",
       "      <td>10.054095</td>\n",
       "      <td>9.315937</td>\n",
       "      <td>9.290063</td>\n",
       "      <td>9.478464</td>\n",
       "    </tr>\n",
       "    <tr>\n",
       "      <th>5</th>\n",
       "      <td>Merged-chr10-37314029-6</td>\n",
       "      <td>chr10</td>\n",
       "      <td>37311085</td>\n",
       "      <td>37317544</td>\n",
       "      <td>intergenic</td>\n",
       "      <td>9.100498</td>\n",
       "      <td>9.177305</td>\n",
       "      <td>9.639574</td>\n",
       "      <td>8.882499</td>\n",
       "      <td>9.036331</td>\n",
       "      <td>9.487353</td>\n",
       "    </tr>\n",
       "  </tbody>\n",
       "</table>\n",
       "</div>"
      ],
      "text/plain": [
       "                     PeakID    Chr     Start       End  Annotation  \\\n",
       "0    Merged-chr4-77447614-7   chr4  77446325  77448719  intergenic   \n",
       "1  Merged-chr12-13804183-10  chr12  13798571  13812426  intergenic   \n",
       "2   Merged-chr12-38873382-8  chr12  38869851  38879308  intergenic   \n",
       "3    Merged-chr4-58505254-7   chr4  58501851  58509994  intergenic   \n",
       "5   Merged-chr10-37314029-6  chr10  37311085  37317544  intergenic   \n",
       "\n",
       "   H3K27ac1-IL  H3K27ac2-PL  H3K27ac4-ST  H3K27ac5-AC  H3K27ac6-AS  \\\n",
       "0    11.486580    11.592882    11.369450    11.455429    11.541023   \n",
       "1    10.518769    10.435693    10.974241    10.252431    10.399940   \n",
       "2     9.811939     9.805325    10.217660     9.469130     9.758923   \n",
       "3     9.317609     9.653931    10.054095     9.315937     9.290063   \n",
       "5     9.100498     9.177305     9.639574     8.882499     9.036331   \n",
       "\n",
       "   H3K27ac7-VTA  \n",
       "0     11.206650  \n",
       "1     10.374023  \n",
       "2      9.933961  \n",
       "3      9.478464  \n",
       "5      9.487353  "
      ]
     },
     "execution_count": 4,
     "metadata": {},
     "output_type": "execute_result"
    }
   ],
   "source": [
    "norm_exp = norm_exp[norm_exp.Annotation.isin(['intergenic','intron'])]\n",
    "norm_exp.head()"
   ]
  },
  {
   "cell_type": "code",
   "execution_count": 5,
   "metadata": {},
   "outputs": [],
   "source": [
    "del norm_exp['Annotation']"
   ]
  },
  {
   "cell_type": "markdown",
   "metadata": {},
   "source": [
    "Perform PCA"
   ]
  },
  {
   "cell_type": "code",
   "execution_count": 6,
   "metadata": {},
   "outputs": [],
   "source": [
    "pca = PCA(n_components=2)"
   ]
  },
  {
   "cell_type": "code",
   "execution_count": 7,
   "metadata": {},
   "outputs": [],
   "source": [
    "principal_components = pca.fit_transform(norm_exp[norm_exp.columns[4:]].T)"
   ]
  },
  {
   "cell_type": "code",
   "execution_count": 8,
   "metadata": {},
   "outputs": [
    {
     "data": {
      "text/html": [
       "<div>\n",
       "<style scoped>\n",
       "    .dataframe tbody tr th:only-of-type {\n",
       "        vertical-align: middle;\n",
       "    }\n",
       "\n",
       "    .dataframe tbody tr th {\n",
       "        vertical-align: top;\n",
       "    }\n",
       "\n",
       "    .dataframe thead th {\n",
       "        text-align: right;\n",
       "    }\n",
       "</style>\n",
       "<table border=\"1\" class=\"dataframe\">\n",
       "  <thead>\n",
       "    <tr style=\"text-align: right;\">\n",
       "      <th></th>\n",
       "      <th>PC 1</th>\n",
       "      <th>PC 2</th>\n",
       "      <th>Sample</th>\n",
       "    </tr>\n",
       "  </thead>\n",
       "  <tbody>\n",
       "    <tr>\n",
       "      <th>0</th>\n",
       "      <td>-22.716903</td>\n",
       "      <td>-57.416002</td>\n",
       "      <td>H3K27ac1-IL</td>\n",
       "    </tr>\n",
       "    <tr>\n",
       "      <th>1</th>\n",
       "      <td>-21.117974</td>\n",
       "      <td>-56.855893</td>\n",
       "      <td>H3K27ac2-PL</td>\n",
       "    </tr>\n",
       "    <tr>\n",
       "      <th>2</th>\n",
       "      <td>145.812157</td>\n",
       "      <td>69.924212</td>\n",
       "      <td>H3K27ac4-ST</td>\n",
       "    </tr>\n",
       "    <tr>\n",
       "      <th>3</th>\n",
       "      <td>10.084732</td>\n",
       "      <td>-31.026163</td>\n",
       "      <td>H3K27ac5-AC</td>\n",
       "    </tr>\n",
       "    <tr>\n",
       "      <th>4</th>\n",
       "      <td>-4.411107</td>\n",
       "      <td>-41.397230</td>\n",
       "      <td>H3K27ac6-AS</td>\n",
       "    </tr>\n",
       "  </tbody>\n",
       "</table>\n",
       "</div>"
      ],
      "text/plain": [
       "         PC 1       PC 2       Sample\n",
       "0  -22.716903 -57.416002  H3K27ac1-IL\n",
       "1  -21.117974 -56.855893  H3K27ac2-PL\n",
       "2  145.812157  69.924212  H3K27ac4-ST\n",
       "3   10.084732 -31.026163  H3K27ac5-AC\n",
       "4   -4.411107 -41.397230  H3K27ac6-AS"
      ]
     },
     "execution_count": 8,
     "metadata": {},
     "output_type": "execute_result"
    }
   ],
   "source": [
    "principal_df = pd.DataFrame(data=principal_components,columns=['PC 1','PC 2'])\n",
    "principal_df['Sample'] = norm_exp[norm_exp.columns[4:]].T.index\n",
    "principal_df.head()"
   ]
  },
  {
   "cell_type": "code",
   "execution_count": 9,
   "metadata": {},
   "outputs": [
    {
     "data": {
      "text/plain": [
       "<seaborn.axisgrid.FacetGrid at 0x7f73dd7b2710>"
      ]
     },
     "execution_count": 9,
     "metadata": {},
     "output_type": "execute_result"
    },
    {
     "data": {
      "image/png": "[encoded data removed]",
      "text/plain": [
       "<Figure size 470.5x360 with 1 Axes>"
      ]
     },
     "metadata": {
      "needs_background": "light"
     },
     "output_type": "display_data"
    }
   ],
   "source": [
    "sns.lmplot(x='PC 1',y='PC 2',data=principal_df,hue='Sample',fit_reg=False)"
   ]
  },
  {
   "cell_type": "code",
   "execution_count": 10,
   "metadata": {},
   "outputs": [
    {
     "data": {
      "text/plain": [
       "array([0.3865912 , 0.31592578])"
      ]
     },
     "execution_count": 10,
     "metadata": {},
     "output_type": "execute_result"
    }
   ],
   "source": [
    "pca.explained_variance_ratio_"
   ]
  },
  {
   "cell_type": "code",
   "execution_count": null,
   "metadata": {},
   "outputs": [],
   "source": []
  }
 ],
 "metadata": {
  "kernelspec": {
   "display_name": "Python 3",
   "language": "python",
   "name": "python3"
  },
  "language_info": {
   "codemirror_mode": {
    "name": "ipython",
    "version": 3
   },
   "file_extension": ".py",
   "mimetype": "text/x-python",
   "name": "python",
   "nbconvert_exporter": "python",
   "pygments_lexer": "ipython3",
   "version": "3.7.3"
  }
 },
 "nbformat": 4,
 "nbformat_minor": 4
}
