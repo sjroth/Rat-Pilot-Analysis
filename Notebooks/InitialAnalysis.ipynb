{
 "cells": [
  {
   "cell_type": "code",
   "execution_count": 1,
   "metadata": {},
   "outputs": [
    {
     "name": "stdout",
     "output_type": "stream",
     "text": [
      "Populating the interactive namespace from numpy and matplotlib\n"
     ]
    }
   ],
   "source": [
    "import os\n",
    "import pandas as pd\n",
    "import matplotlib.pyplot as plt\n",
    "%pylab inline\n",
    "import seaborn as sns\n",
    "from sklearn.decomposition import PCA\n",
    "from scipy.cluster.hierarchy import fcluster"
   ]
  },
  {
   "cell_type": "markdown",
   "metadata": {},
   "source": [
    "Load data"
   ]
  },
  {
   "cell_type": "code",
   "execution_count": 2,
   "metadata": {},
   "outputs": [],
   "source": [
    "os.chdir('../../../Rat-Pilot/atac-data/tag_directories/')"
   ]
  },
  {
   "cell_type": "code",
   "execution_count": null,
   "metadata": {},
   "outputs": [],
   "source": [
    "all_exp = pd.read_csv('merged-all.rlog.txt',sep='\\t')\n",
    "colnames = {all_exp.columns[0]:'PeakID'}\n",
    "for col in all_exp.columns[19:]:\n",
    "    colnames[col] = col.split()[0]\n",
    "all_exp = all_exp.rename(colnames,axis=1)\n",
    "all_exp = all_exp[['PeakID','Chr','Start','End','Annotation']+list(all_exp.columns[19:])]\n",
    "all_exp['Annotation'] = all_exp.apply(lambda x: x[4].split()[0].lower(),axis=1)\n",
    "all_exp.head()"
   ]
  },
  {
   "cell_type": "code",
   "execution_count": 3,
   "metadata": {},
   "outputs": [
    {
     "data": {
      "text/html": [
       "<div>\n",
       "<style scoped>\n",
       "    .dataframe tbody tr th:only-of-type {\n",
       "        vertical-align: middle;\n",
       "    }\n",
       "\n",
       "    .dataframe tbody tr th {\n",
       "        vertical-align: top;\n",
       "    }\n",
       "\n",
       "    .dataframe thead th {\n",
       "        text-align: right;\n",
       "    }\n",
       "</style>\n",
       "<table border=\"1\" class=\"dataframe\">\n",
       "  <thead>\n",
       "    <tr style=\"text-align: right;\">\n",
       "      <th></th>\n",
       "      <th>PeakID</th>\n",
       "      <th>Chr</th>\n",
       "      <th>Start</th>\n",
       "      <th>End</th>\n",
       "      <th>Annotation</th>\n",
       "      <th>Core-r1</th>\n",
       "      <th>Core-r2</th>\n",
       "      <th>IP-r1</th>\n",
       "      <th>IP-r2</th>\n",
       "      <th>PFC-r1</th>\n",
       "      <th>PFC-r2</th>\n",
       "      <th>PL-r1</th>\n",
       "      <th>PL-r2</th>\n",
       "      <th>Shell-r1</th>\n",
       "      <th>Shell-r2</th>\n",
       "      <th>Striatum-r1</th>\n",
       "      <th>Striatum-r2</th>\n",
       "      <th>VTA-r1</th>\n",
       "      <th>VTA-r2</th>\n",
       "    </tr>\n",
       "  </thead>\n",
       "  <tbody>\n",
       "    <tr>\n",
       "      <th>0</th>\n",
       "      <td>Merged-chrM-14962-4</td>\n",
       "      <td>chrM</td>\n",
       "      <td>14446</td>\n",
       "      <td>15504</td>\n",
       "      <td></td>\n",
       "      <td>18.708700</td>\n",
       "      <td>18.783639</td>\n",
       "      <td>19.357710</td>\n",
       "      <td>18.883340</td>\n",
       "      <td>19.142593</td>\n",
       "      <td>18.787819</td>\n",
       "      <td>19.351417</td>\n",
       "      <td>19.125902</td>\n",
       "      <td>18.705849</td>\n",
       "      <td>18.409388</td>\n",
       "      <td>19.004568</td>\n",
       "      <td>18.708808</td>\n",
       "      <td>18.770910</td>\n",
       "      <td>18.898648</td>\n",
       "    </tr>\n",
       "    <tr>\n",
       "      <th>1</th>\n",
       "      <td>Merged-chr2-110305698-6</td>\n",
       "      <td>chr2</td>\n",
       "      <td>110305365</td>\n",
       "      <td>110306035</td>\n",
       "      <td>promoter-tss (nm_001047948)</td>\n",
       "      <td>4.240106</td>\n",
       "      <td>10.605519</td>\n",
       "      <td>4.391971</td>\n",
       "      <td>10.758659</td>\n",
       "      <td>4.610998</td>\n",
       "      <td>10.571106</td>\n",
       "      <td>4.414741</td>\n",
       "      <td>10.979495</td>\n",
       "      <td>4.544273</td>\n",
       "      <td>10.322004</td>\n",
       "      <td>4.115506</td>\n",
       "      <td>10.412638</td>\n",
       "      <td>5.563545</td>\n",
       "      <td>10.365013</td>\n",
       "    </tr>\n",
       "    <tr>\n",
       "      <th>2</th>\n",
       "      <td>Merged-chr2-198589905-9</td>\n",
       "      <td>chr2</td>\n",
       "      <td>198589687</td>\n",
       "      <td>198590119</td>\n",
       "      <td>intergenic</td>\n",
       "      <td>10.155034</td>\n",
       "      <td>10.519115</td>\n",
       "      <td>11.183911</td>\n",
       "      <td>10.657254</td>\n",
       "      <td>10.854870</td>\n",
       "      <td>10.461368</td>\n",
       "      <td>11.088579</td>\n",
       "      <td>10.857261</td>\n",
       "      <td>10.269088</td>\n",
       "      <td>10.037761</td>\n",
       "      <td>10.421919</td>\n",
       "      <td>10.157028</td>\n",
       "      <td>10.155795</td>\n",
       "      <td>10.390206</td>\n",
       "    </tr>\n",
       "    <tr>\n",
       "      <th>3</th>\n",
       "      <td>Merged-chr4-77448184-14</td>\n",
       "      <td>chr4</td>\n",
       "      <td>77447678</td>\n",
       "      <td>77448738</td>\n",
       "      <td>intergenic</td>\n",
       "      <td>10.364654</td>\n",
       "      <td>10.387226</td>\n",
       "      <td>10.595393</td>\n",
       "      <td>10.569453</td>\n",
       "      <td>10.198092</td>\n",
       "      <td>10.101427</td>\n",
       "      <td>10.251397</td>\n",
       "      <td>10.178567</td>\n",
       "      <td>10.422040</td>\n",
       "      <td>10.352076</td>\n",
       "      <td>10.217335</td>\n",
       "      <td>10.132058</td>\n",
       "      <td>10.171939</td>\n",
       "      <td>10.472982</td>\n",
       "    </tr>\n",
       "    <tr>\n",
       "      <th>4</th>\n",
       "      <td>Merged-chr13-33505050-14</td>\n",
       "      <td>chr13</td>\n",
       "      <td>33504525</td>\n",
       "      <td>33505583</td>\n",
       "      <td>intergenic</td>\n",
       "      <td>9.791578</td>\n",
       "      <td>9.594396</td>\n",
       "      <td>10.046375</td>\n",
       "      <td>9.891174</td>\n",
       "      <td>9.676870</td>\n",
       "      <td>9.806551</td>\n",
       "      <td>9.582405</td>\n",
       "      <td>9.541090</td>\n",
       "      <td>10.063865</td>\n",
       "      <td>9.625001</td>\n",
       "      <td>9.399051</td>\n",
       "      <td>9.137302</td>\n",
       "      <td>10.898152</td>\n",
       "      <td>10.311956</td>\n",
       "    </tr>\n",
       "  </tbody>\n",
       "</table>\n",
       "</div>"
      ],
      "text/plain": [
       "                     PeakID    Chr      Start        End  \\\n",
       "0       Merged-chrM-14962-4   chrM      14446      15504   \n",
       "1   Merged-chr2-110305698-6   chr2  110305365  110306035   \n",
       "2   Merged-chr2-198589905-9   chr2  198589687  198590119   \n",
       "3   Merged-chr4-77448184-14   chr4   77447678   77448738   \n",
       "4  Merged-chr13-33505050-14  chr13   33504525   33505583   \n",
       "\n",
       "                    Annotation    Core-r1    Core-r2      IP-r1      IP-r2  \\\n",
       "0                               18.708700  18.783639  19.357710  18.883340   \n",
       "1  promoter-tss (nm_001047948)   4.240106  10.605519   4.391971  10.758659   \n",
       "2                   intergenic  10.155034  10.519115  11.183911  10.657254   \n",
       "3                   intergenic  10.364654  10.387226  10.595393  10.569453   \n",
       "4                   intergenic   9.791578   9.594396  10.046375   9.891174   \n",
       "\n",
       "      PFC-r1     PFC-r2      PL-r1      PL-r2   Shell-r1   Shell-r2  \\\n",
       "0  19.142593  18.787819  19.351417  19.125902  18.705849  18.409388   \n",
       "1   4.610998  10.571106   4.414741  10.979495   4.544273  10.322004   \n",
       "2  10.854870  10.461368  11.088579  10.857261  10.269088  10.037761   \n",
       "3  10.198092  10.101427  10.251397  10.178567  10.422040  10.352076   \n",
       "4   9.676870   9.806551   9.582405   9.541090  10.063865   9.625001   \n",
       "\n",
       "   Striatum-r1  Striatum-r2     VTA-r1     VTA-r2  \n",
       "0    19.004568    18.708808  18.770910  18.898648  \n",
       "1     4.115506    10.412638   5.563545  10.365013  \n",
       "2    10.421919    10.157028  10.155795  10.390206  \n",
       "3    10.217335    10.132058  10.171939  10.472982  \n",
       "4     9.399051     9.137302  10.898152  10.311956  "
      ]
     },
     "execution_count": 3,
     "metadata": {},
     "output_type": "execute_result"
    }
   ],
   "source": [
    "all_exp = pd.read_csv('all_peaks.rlog.txt',sep='\\t')\n",
    "colnames = {all_exp.columns[0]:'PeakID'}\n",
    "for col in all_exp.columns[19:]:\n",
    "    colnames[col] = col.split()[0].split('/')[1]\n",
    "all_exp = all_exp.rename(colnames,axis=1)\n",
    "all_exp = all_exp[['PeakID','Chr','Start','End','Annotation']+list(all_exp.columns[19:])]\n",
    "all_exp = all_exp.fillna('')\n",
    "all_exp['Annotation'] = all_exp.Annotation.str.lower()\n",
    "all_exp.head()"
   ]
  },
  {
   "cell_type": "code",
   "execution_count": null,
   "metadata": {},
   "outputs": [],
   "source": [
    "distal_exp = pd.read_csv('merged-distal.rlog.txt',sep='\\t')\n",
    "colnames = {distal_exp.columns[0]:'PeakID'}\n",
    "for col in distal_exp.columns[19:]:\n",
    "    colnames[col] = col.split()[0]\n",
    "distal_exp = distal_exp.rename(colnames,axis=1)\n",
    "distal_exp = distal_exp[['PeakID','Chr','Start','End','Annotation']+list(distal_exp.columns[19:])]\n",
    "del distal_exp['Annotation']\n",
    "distal_exp.head()"
   ]
  },
  {
   "cell_type": "code",
   "execution_count": 4,
   "metadata": {},
   "outputs": [
    {
     "data": {
      "text/html": [
       "<div>\n",
       "<style scoped>\n",
       "    .dataframe tbody tr th:only-of-type {\n",
       "        vertical-align: middle;\n",
       "    }\n",
       "\n",
       "    .dataframe tbody tr th {\n",
       "        vertical-align: top;\n",
       "    }\n",
       "\n",
       "    .dataframe thead th {\n",
       "        text-align: right;\n",
       "    }\n",
       "</style>\n",
       "<table border=\"1\" class=\"dataframe\">\n",
       "  <thead>\n",
       "    <tr style=\"text-align: right;\">\n",
       "      <th></th>\n",
       "      <th>PeakID</th>\n",
       "      <th>Chr</th>\n",
       "      <th>Start</th>\n",
       "      <th>End</th>\n",
       "      <th>Annotation</th>\n",
       "      <th>Core-r1</th>\n",
       "      <th>Core-r2</th>\n",
       "      <th>IP-r1</th>\n",
       "      <th>IP-r2</th>\n",
       "      <th>PFC-r1</th>\n",
       "      <th>PFC-r2</th>\n",
       "      <th>PL-r1</th>\n",
       "      <th>PL-r2</th>\n",
       "      <th>Shell-r1</th>\n",
       "      <th>Shell-r2</th>\n",
       "      <th>Striatum-r1</th>\n",
       "      <th>Striatum-r2</th>\n",
       "      <th>VTA-r1</th>\n",
       "      <th>VTA-r2</th>\n",
       "    </tr>\n",
       "  </thead>\n",
       "  <tbody>\n",
       "    <tr>\n",
       "      <th>0</th>\n",
       "      <td>Merged-chr2-198589905-9</td>\n",
       "      <td>chr2</td>\n",
       "      <td>198589687</td>\n",
       "      <td>198590119</td>\n",
       "      <td>Intergenic</td>\n",
       "      <td>10.162337</td>\n",
       "      <td>10.517918</td>\n",
       "      <td>11.153771</td>\n",
       "      <td>10.678155</td>\n",
       "      <td>10.765769</td>\n",
       "      <td>10.435554</td>\n",
       "      <td>11.061045</td>\n",
       "      <td>10.844020</td>\n",
       "      <td>10.237402</td>\n",
       "      <td>10.110829</td>\n",
       "      <td>10.422173</td>\n",
       "      <td>10.161160</td>\n",
       "      <td>10.117088</td>\n",
       "      <td>10.473301</td>\n",
       "    </tr>\n",
       "    <tr>\n",
       "      <th>1</th>\n",
       "      <td>Merged-chr4-77448184-14</td>\n",
       "      <td>chr4</td>\n",
       "      <td>77447678</td>\n",
       "      <td>77448738</td>\n",
       "      <td>Intergenic</td>\n",
       "      <td>10.331751</td>\n",
       "      <td>10.379494</td>\n",
       "      <td>10.597919</td>\n",
       "      <td>10.579615</td>\n",
       "      <td>10.151998</td>\n",
       "      <td>10.091416</td>\n",
       "      <td>10.280480</td>\n",
       "      <td>10.209139</td>\n",
       "      <td>10.355921</td>\n",
       "      <td>10.374967</td>\n",
       "      <td>10.217871</td>\n",
       "      <td>10.118787</td>\n",
       "      <td>10.111968</td>\n",
       "      <td>10.529637</td>\n",
       "    </tr>\n",
       "    <tr>\n",
       "      <th>2</th>\n",
       "      <td>Merged-chr13-33505050-14</td>\n",
       "      <td>chr13</td>\n",
       "      <td>33504525</td>\n",
       "      <td>33505583</td>\n",
       "      <td>Intergenic</td>\n",
       "      <td>9.765513</td>\n",
       "      <td>9.614132</td>\n",
       "      <td>10.054102</td>\n",
       "      <td>9.917890</td>\n",
       "      <td>9.632409</td>\n",
       "      <td>9.776200</td>\n",
       "      <td>9.627039</td>\n",
       "      <td>9.584468</td>\n",
       "      <td>9.984825</td>\n",
       "      <td>9.668963</td>\n",
       "      <td>9.430331</td>\n",
       "      <td>9.173537</td>\n",
       "      <td>10.730656</td>\n",
       "      <td>10.340115</td>\n",
       "    </tr>\n",
       "    <tr>\n",
       "      <th>3</th>\n",
       "      <td>Merged-chr19-56338619-15</td>\n",
       "      <td>chr19</td>\n",
       "      <td>56338111</td>\n",
       "      <td>56339202</td>\n",
       "      <td>Intergenic</td>\n",
       "      <td>10.143852</td>\n",
       "      <td>10.112398</td>\n",
       "      <td>10.486724</td>\n",
       "      <td>10.346913</td>\n",
       "      <td>9.980468</td>\n",
       "      <td>10.106323</td>\n",
       "      <td>10.284485</td>\n",
       "      <td>10.224314</td>\n",
       "      <td>10.207464</td>\n",
       "      <td>10.241525</td>\n",
       "      <td>9.679577</td>\n",
       "      <td>9.639002</td>\n",
       "      <td>10.797638</td>\n",
       "      <td>10.381749</td>\n",
       "    </tr>\n",
       "    <tr>\n",
       "      <th>4</th>\n",
       "      <td>Merged-chr1-11911002-10</td>\n",
       "      <td>chr1</td>\n",
       "      <td>11910576</td>\n",
       "      <td>11911430</td>\n",
       "      <td>intron (NM_001025002, intron 6 of 6).2</td>\n",
       "      <td>9.128995</td>\n",
       "      <td>9.280796</td>\n",
       "      <td>9.130306</td>\n",
       "      <td>9.196383</td>\n",
       "      <td>8.484502</td>\n",
       "      <td>8.590042</td>\n",
       "      <td>8.884085</td>\n",
       "      <td>9.012024</td>\n",
       "      <td>9.093937</td>\n",
       "      <td>8.962666</td>\n",
       "      <td>8.684457</td>\n",
       "      <td>8.939433</td>\n",
       "      <td>8.695265</td>\n",
       "      <td>8.730685</td>\n",
       "    </tr>\n",
       "  </tbody>\n",
       "</table>\n",
       "</div>"
      ],
      "text/plain": [
       "                     PeakID    Chr      Start        End  \\\n",
       "0   Merged-chr2-198589905-9   chr2  198589687  198590119   \n",
       "1   Merged-chr4-77448184-14   chr4   77447678   77448738   \n",
       "2  Merged-chr13-33505050-14  chr13   33504525   33505583   \n",
       "3  Merged-chr19-56338619-15  chr19   56338111   56339202   \n",
       "4   Merged-chr1-11911002-10   chr1   11910576   11911430   \n",
       "\n",
       "                               Annotation    Core-r1    Core-r2      IP-r1  \\\n",
       "0                              Intergenic  10.162337  10.517918  11.153771   \n",
       "1                              Intergenic  10.331751  10.379494  10.597919   \n",
       "2                              Intergenic   9.765513   9.614132  10.054102   \n",
       "3                              Intergenic  10.143852  10.112398  10.486724   \n",
       "4  intron (NM_001025002, intron 6 of 6).2   9.128995   9.280796   9.130306   \n",
       "\n",
       "       IP-r2     PFC-r1     PFC-r2      PL-r1      PL-r2   Shell-r1  \\\n",
       "0  10.678155  10.765769  10.435554  11.061045  10.844020  10.237402   \n",
       "1  10.579615  10.151998  10.091416  10.280480  10.209139  10.355921   \n",
       "2   9.917890   9.632409   9.776200   9.627039   9.584468   9.984825   \n",
       "3  10.346913   9.980468  10.106323  10.284485  10.224314  10.207464   \n",
       "4   9.196383   8.484502   8.590042   8.884085   9.012024   9.093937   \n",
       "\n",
       "    Shell-r2  Striatum-r1  Striatum-r2     VTA-r1     VTA-r2  \n",
       "0  10.110829    10.422173    10.161160  10.117088  10.473301  \n",
       "1  10.374967    10.217871    10.118787  10.111968  10.529637  \n",
       "2   9.668963     9.430331     9.173537  10.730656  10.340115  \n",
       "3  10.241525     9.679577     9.639002  10.797638  10.381749  \n",
       "4   8.962666     8.684457     8.939433   8.695265   8.730685  "
      ]
     },
     "execution_count": 4,
     "metadata": {},
     "output_type": "execute_result"
    }
   ],
   "source": [
    "distal_exp = pd.read_csv('all_peaks.distal.rlog.txt',sep='\\t')\n",
    "colnames = {distal_exp.columns[0]:'PeakID'}\n",
    "for col in distal_exp.columns[19:]:\n",
    "    colnames[col] = col.split()[0].split('/')[1]\n",
    "distal_exp = distal_exp.rename(colnames,axis=1)\n",
    "distal_exp = distal_exp[['PeakID','Chr','Start','End','Annotation']+list(distal_exp.columns[19:])]\n",
    "distal_exp.head()"
   ]
  },
  {
   "cell_type": "markdown",
   "metadata": {},
   "source": [
    "Separate by annotation"
   ]
  },
  {
   "cell_type": "code",
   "execution_count": 5,
   "metadata": {},
   "outputs": [
    {
     "data": {
      "text/html": [
       "<div>\n",
       "<style scoped>\n",
       "    .dataframe tbody tr th:only-of-type {\n",
       "        vertical-align: middle;\n",
       "    }\n",
       "\n",
       "    .dataframe tbody tr th {\n",
       "        vertical-align: top;\n",
       "    }\n",
       "\n",
       "    .dataframe thead th {\n",
       "        text-align: right;\n",
       "    }\n",
       "</style>\n",
       "<table border=\"1\" class=\"dataframe\">\n",
       "  <thead>\n",
       "    <tr style=\"text-align: right;\">\n",
       "      <th></th>\n",
       "      <th>PeakID</th>\n",
       "      <th>Chr</th>\n",
       "      <th>Start</th>\n",
       "      <th>End</th>\n",
       "      <th>Core-r1</th>\n",
       "      <th>Core-r2</th>\n",
       "      <th>IP-r1</th>\n",
       "      <th>IP-r2</th>\n",
       "      <th>PFC-r1</th>\n",
       "      <th>PFC-r2</th>\n",
       "      <th>PL-r1</th>\n",
       "      <th>PL-r2</th>\n",
       "      <th>Shell-r1</th>\n",
       "      <th>Shell-r2</th>\n",
       "      <th>Striatum-r1</th>\n",
       "      <th>Striatum-r2</th>\n",
       "      <th>VTA-r1</th>\n",
       "      <th>VTA-r2</th>\n",
       "    </tr>\n",
       "  </thead>\n",
       "  <tbody>\n",
       "    <tr>\n",
       "      <th>1</th>\n",
       "      <td>Merged-chr2-110305698-6</td>\n",
       "      <td>chr2</td>\n",
       "      <td>110305365</td>\n",
       "      <td>110306035</td>\n",
       "      <td>4.240106</td>\n",
       "      <td>10.605519</td>\n",
       "      <td>4.391971</td>\n",
       "      <td>10.758659</td>\n",
       "      <td>4.610998</td>\n",
       "      <td>10.571106</td>\n",
       "      <td>4.414741</td>\n",
       "      <td>10.979495</td>\n",
       "      <td>4.544273</td>\n",
       "      <td>10.322004</td>\n",
       "      <td>4.115506</td>\n",
       "      <td>10.412638</td>\n",
       "      <td>5.563545</td>\n",
       "      <td>10.365013</td>\n",
       "    </tr>\n",
       "    <tr>\n",
       "      <th>9</th>\n",
       "      <td>Merged-chr12-1510456-14</td>\n",
       "      <td>chr12</td>\n",
       "      <td>1509913</td>\n",
       "      <td>1510971</td>\n",
       "      <td>8.763972</td>\n",
       "      <td>8.649604</td>\n",
       "      <td>8.520753</td>\n",
       "      <td>8.674368</td>\n",
       "      <td>8.649611</td>\n",
       "      <td>8.714126</td>\n",
       "      <td>8.535012</td>\n",
       "      <td>8.653433</td>\n",
       "      <td>8.967528</td>\n",
       "      <td>8.871674</td>\n",
       "      <td>8.064145</td>\n",
       "      <td>8.006991</td>\n",
       "      <td>10.196897</td>\n",
       "      <td>9.514019</td>\n",
       "    </tr>\n",
       "    <tr>\n",
       "      <th>26</th>\n",
       "      <td>Merged-chr9-10013568-14</td>\n",
       "      <td>chr9</td>\n",
       "      <td>10013068</td>\n",
       "      <td>10014203</td>\n",
       "      <td>8.003872</td>\n",
       "      <td>8.062771</td>\n",
       "      <td>7.911871</td>\n",
       "      <td>7.994441</td>\n",
       "      <td>8.045377</td>\n",
       "      <td>8.062661</td>\n",
       "      <td>8.287629</td>\n",
       "      <td>8.198126</td>\n",
       "      <td>7.742786</td>\n",
       "      <td>8.061493</td>\n",
       "      <td>8.293347</td>\n",
       "      <td>7.974252</td>\n",
       "      <td>7.675406</td>\n",
       "      <td>7.812421</td>\n",
       "    </tr>\n",
       "    <tr>\n",
       "      <th>30</th>\n",
       "      <td>Merged-chr9-82514595-14</td>\n",
       "      <td>chr9</td>\n",
       "      <td>82514005</td>\n",
       "      <td>82515101</td>\n",
       "      <td>7.760875</td>\n",
       "      <td>7.856029</td>\n",
       "      <td>7.386281</td>\n",
       "      <td>7.852087</td>\n",
       "      <td>7.323245</td>\n",
       "      <td>7.778263</td>\n",
       "      <td>7.856518</td>\n",
       "      <td>7.870389</td>\n",
       "      <td>7.476950</td>\n",
       "      <td>7.940271</td>\n",
       "      <td>8.157805</td>\n",
       "      <td>8.356451</td>\n",
       "      <td>7.694410</td>\n",
       "      <td>7.859091</td>\n",
       "    </tr>\n",
       "    <tr>\n",
       "      <th>32</th>\n",
       "      <td>Merged-chr15-44411437-14</td>\n",
       "      <td>chr15</td>\n",
       "      <td>44410888</td>\n",
       "      <td>44411973</td>\n",
       "      <td>7.429357</td>\n",
       "      <td>7.621931</td>\n",
       "      <td>7.265361</td>\n",
       "      <td>7.669659</td>\n",
       "      <td>7.492903</td>\n",
       "      <td>7.669785</td>\n",
       "      <td>7.688082</td>\n",
       "      <td>7.860125</td>\n",
       "      <td>7.039914</td>\n",
       "      <td>7.871184</td>\n",
       "      <td>7.650655</td>\n",
       "      <td>7.723857</td>\n",
       "      <td>7.321456</td>\n",
       "      <td>7.546456</td>\n",
       "    </tr>\n",
       "  </tbody>\n",
       "</table>\n",
       "</div>"
      ],
      "text/plain": [
       "                      PeakID    Chr      Start        End   Core-r1  \\\n",
       "1    Merged-chr2-110305698-6   chr2  110305365  110306035  4.240106   \n",
       "9    Merged-chr12-1510456-14  chr12    1509913    1510971  8.763972   \n",
       "26   Merged-chr9-10013568-14   chr9   10013068   10014203  8.003872   \n",
       "30   Merged-chr9-82514595-14   chr9   82514005   82515101  7.760875   \n",
       "32  Merged-chr15-44411437-14  chr15   44410888   44411973  7.429357   \n",
       "\n",
       "      Core-r2     IP-r1      IP-r2    PFC-r1     PFC-r2     PL-r1      PL-r2  \\\n",
       "1   10.605519  4.391971  10.758659  4.610998  10.571106  4.414741  10.979495   \n",
       "9    8.649604  8.520753   8.674368  8.649611   8.714126  8.535012   8.653433   \n",
       "26   8.062771  7.911871   7.994441  8.045377   8.062661  8.287629   8.198126   \n",
       "30   7.856029  7.386281   7.852087  7.323245   7.778263  7.856518   7.870389   \n",
       "32   7.621931  7.265361   7.669659  7.492903   7.669785  7.688082   7.860125   \n",
       "\n",
       "    Shell-r1   Shell-r2  Striatum-r1  Striatum-r2     VTA-r1     VTA-r2  \n",
       "1   4.544273  10.322004     4.115506    10.412638   5.563545  10.365013  \n",
       "9   8.967528   8.871674     8.064145     8.006991  10.196897   9.514019  \n",
       "26  7.742786   8.061493     8.293347     7.974252   7.675406   7.812421  \n",
       "30  7.476950   7.940271     8.157805     8.356451   7.694410   7.859091  \n",
       "32  7.039914   7.871184     7.650655     7.723857   7.321456   7.546456  "
      ]
     },
     "execution_count": 5,
     "metadata": {},
     "output_type": "execute_result"
    }
   ],
   "source": [
    "promoter = all_exp[all_exp.Annotation.str.contains('promoter-tss')]\n",
    "del promoter['Annotation']\n",
    "promoter.head()"
   ]
  },
  {
   "cell_type": "markdown",
   "metadata": {},
   "source": [
    "Perform PCA"
   ]
  },
  {
   "cell_type": "code",
   "execution_count": 6,
   "metadata": {},
   "outputs": [],
   "source": [
    "pca = PCA(n_components=2)"
   ]
  },
  {
   "cell_type": "code",
   "execution_count": 7,
   "metadata": {},
   "outputs": [],
   "source": [
    "principal_components = pca.fit_transform(distal_exp[distal_exp.columns[5:]].T)"
   ]
  },
  {
   "cell_type": "code",
   "execution_count": 8,
   "metadata": {},
   "outputs": [
    {
     "data": {
      "text/html": [
       "<div>\n",
       "<style scoped>\n",
       "    .dataframe tbody tr th:only-of-type {\n",
       "        vertical-align: middle;\n",
       "    }\n",
       "\n",
       "    .dataframe tbody tr th {\n",
       "        vertical-align: top;\n",
       "    }\n",
       "\n",
       "    .dataframe thead th {\n",
       "        text-align: right;\n",
       "    }\n",
       "</style>\n",
       "<table border=\"1\" class=\"dataframe\">\n",
       "  <thead>\n",
       "    <tr style=\"text-align: right;\">\n",
       "      <th></th>\n",
       "      <th>PC 1</th>\n",
       "      <th>PC 2</th>\n",
       "      <th>Sample</th>\n",
       "    </tr>\n",
       "  </thead>\n",
       "  <tbody>\n",
       "    <tr>\n",
       "      <th>0</th>\n",
       "      <td>32.942550</td>\n",
       "      <td>7.745021</td>\n",
       "      <td>Core-r1</td>\n",
       "    </tr>\n",
       "    <tr>\n",
       "      <th>1</th>\n",
       "      <td>28.687434</td>\n",
       "      <td>4.122520</td>\n",
       "      <td>Core-r2</td>\n",
       "    </tr>\n",
       "    <tr>\n",
       "      <th>2</th>\n",
       "      <td>-26.850585</td>\n",
       "      <td>-11.191076</td>\n",
       "      <td>IP-r1</td>\n",
       "    </tr>\n",
       "    <tr>\n",
       "      <th>3</th>\n",
       "      <td>-28.014920</td>\n",
       "      <td>-10.749221</td>\n",
       "      <td>IP-r2</td>\n",
       "    </tr>\n",
       "    <tr>\n",
       "      <th>4</th>\n",
       "      <td>-31.677808</td>\n",
       "      <td>-17.101003</td>\n",
       "      <td>PFC-r1</td>\n",
       "    </tr>\n",
       "  </tbody>\n",
       "</table>\n",
       "</div>"
      ],
      "text/plain": [
       "        PC 1       PC 2   Sample\n",
       "0  32.942550   7.745021  Core-r1\n",
       "1  28.687434   4.122520  Core-r2\n",
       "2 -26.850585 -11.191076    IP-r1\n",
       "3 -28.014920 -10.749221    IP-r2\n",
       "4 -31.677808 -17.101003   PFC-r1"
      ]
     },
     "execution_count": 8,
     "metadata": {},
     "output_type": "execute_result"
    }
   ],
   "source": [
    "principal_df = pd.DataFrame(data=principal_components,columns=['PC 1','PC 2'])\n",
    "principal_df['Sample'] = distal_exp[distal_exp.columns[5:]].T.index\n",
    "principal_df.head()"
   ]
  },
  {
   "cell_type": "code",
   "execution_count": 9,
   "metadata": {},
   "outputs": [],
   "source": [
    "figsize(20,14)"
   ]
  },
  {
   "cell_type": "code",
   "execution_count": 10,
   "metadata": {},
   "outputs": [
    {
     "data": {
      "image/png": "[encoded data removed]",
      "text/plain": [
       "<Figure size 453.25x360 with 1 Axes>"
      ]
     },
     "metadata": {
      "needs_background": "light"
     },
     "output_type": "display_data"
    }
   ],
   "source": [
    "#figsize(10,8)\n",
    "sns.lmplot(x='PC 1',y='PC 2',data=principal_df,hue='Sample',fit_reg=False)\n",
    "title('Distal Peaks')\n",
    "xlabel('PC 1 (34%)')\n",
    "ylabel('PC 2 (14%)')\n",
    "savefig('../../../Pipelines/Rat-Pilot-Analysis/Notebooks/PCA.png',kind='png')"
   ]
  },
  {
   "cell_type": "code",
   "execution_count": 11,
   "metadata": {},
   "outputs": [
    {
     "data": {
      "text/plain": [
       "array([0.34851503, 0.14010395])"
      ]
     },
     "execution_count": 11,
     "metadata": {},
     "output_type": "execute_result"
    }
   ],
   "source": [
    "pca.explained_variance_ratio_"
   ]
  },
  {
   "cell_type": "code",
   "execution_count": 12,
   "metadata": {},
   "outputs": [],
   "source": [
    "principal_components = pca.fit_transform(promoter[promoter.columns[4:]].T)"
   ]
  },
  {
   "cell_type": "code",
   "execution_count": 13,
   "metadata": {},
   "outputs": [
    {
     "data": {
      "text/html": [
       "<div>\n",
       "<style scoped>\n",
       "    .dataframe tbody tr th:only-of-type {\n",
       "        vertical-align: middle;\n",
       "    }\n",
       "\n",
       "    .dataframe tbody tr th {\n",
       "        vertical-align: top;\n",
       "    }\n",
       "\n",
       "    .dataframe thead th {\n",
       "        text-align: right;\n",
       "    }\n",
       "</style>\n",
       "<table border=\"1\" class=\"dataframe\">\n",
       "  <thead>\n",
       "    <tr style=\"text-align: right;\">\n",
       "      <th></th>\n",
       "      <th>PC 1</th>\n",
       "      <th>PC 2</th>\n",
       "      <th>Sample</th>\n",
       "    </tr>\n",
       "  </thead>\n",
       "  <tbody>\n",
       "    <tr>\n",
       "      <th>0</th>\n",
       "      <td>-5.573674</td>\n",
       "      <td>4.648892</td>\n",
       "      <td>Core-r1</td>\n",
       "    </tr>\n",
       "    <tr>\n",
       "      <th>1</th>\n",
       "      <td>-4.334133</td>\n",
       "      <td>-2.583565</td>\n",
       "      <td>Core-r2</td>\n",
       "    </tr>\n",
       "    <tr>\n",
       "      <th>2</th>\n",
       "      <td>1.778813</td>\n",
       "      <td>-1.725017</td>\n",
       "      <td>IP-r1</td>\n",
       "    </tr>\n",
       "    <tr>\n",
       "      <th>3</th>\n",
       "      <td>6.157938</td>\n",
       "      <td>-5.831525</td>\n",
       "      <td>IP-r2</td>\n",
       "    </tr>\n",
       "    <tr>\n",
       "      <th>4</th>\n",
       "      <td>4.505808</td>\n",
       "      <td>7.183489</td>\n",
       "      <td>PFC-r1</td>\n",
       "    </tr>\n",
       "  </tbody>\n",
       "</table>\n",
       "</div>"
      ],
      "text/plain": [
       "       PC 1      PC 2   Sample\n",
       "0 -5.573674  4.648892  Core-r1\n",
       "1 -4.334133 -2.583565  Core-r2\n",
       "2  1.778813 -1.725017    IP-r1\n",
       "3  6.157938 -5.831525    IP-r2\n",
       "4  4.505808  7.183489   PFC-r1"
      ]
     },
     "execution_count": 13,
     "metadata": {},
     "output_type": "execute_result"
    }
   ],
   "source": [
    "principal_df = pd.DataFrame(data=principal_components,columns=['PC 1','PC 2'])\n",
    "principal_df['Sample'] = promoter[promoter.columns[4:]].T.index\n",
    "principal_df.head()"
   ]
  },
  {
   "cell_type": "code",
   "execution_count": 14,
   "metadata": {},
   "outputs": [
    {
     "data": {
      "text/plain": [
       "Text(32.85774305555556, 0.5, 'PC 2 (14%)')"
      ]
     },
     "execution_count": 14,
     "metadata": {},
     "output_type": "execute_result"
    },
    {
     "data": {
      "image/png": "[encoded data removed]",
      "text/plain": [
       "<Figure size 453.25x360 with 1 Axes>"
      ]
     },
     "metadata": {
      "needs_background": "light"
     },
     "output_type": "display_data"
    }
   ],
   "source": [
    "sns.lmplot(x='PC 1',y='PC 2',data=principal_df,hue='Sample',fit_reg=False)\n",
    "title('Promoter Peaks')\n",
    "xlabel('PC 1 (18%)')\n",
    "ylabel('PC 2 (14%)')"
   ]
  },
  {
   "cell_type": "code",
   "execution_count": 15,
   "metadata": {},
   "outputs": [
    {
     "data": {
      "text/plain": [
       "array([0.18480578, 0.14361148])"
      ]
     },
     "execution_count": 15,
     "metadata": {},
     "output_type": "execute_result"
    }
   ],
   "source": [
    "pca.explained_variance_ratio_"
   ]
  },
  {
   "cell_type": "markdown",
   "metadata": {},
   "source": [
    "Cluster Peaks"
   ]
  },
  {
   "cell_type": "code",
   "execution_count": 16,
   "metadata": {},
   "outputs": [],
   "source": [
    "distal_exp['var'] = distal_exp[distal_exp.columns[5:]].var(axis=1)"
   ]
  },
  {
   "cell_type": "code",
   "execution_count": 17,
   "metadata": {},
   "outputs": [],
   "source": [
    "distal_exp = distal_exp.nlargest(int(len(distal_exp)/20),'var')\n",
    "del distal_exp['var']\n",
    "distal_exp = distal_exp.set_index('PeakID')"
   ]
  },
  {
   "cell_type": "code",
   "execution_count": 18,
   "metadata": {},
   "outputs": [
    {
     "data": {
      "text/plain": [
       "(1428, 18)"
      ]
     },
     "execution_count": 18,
     "metadata": {},
     "output_type": "execute_result"
    }
   ],
   "source": [
    "distal_exp.shape"
   ]
  },
  {
   "cell_type": "code",
   "execution_count": 19,
   "metadata": {},
   "outputs": [
    {
     "data": {
      "text/plain": [
       "<Figure size 720x720 with 0 Axes>"
      ]
     },
     "metadata": {},
     "output_type": "display_data"
    },
    {
     "data": {
      "image/png": "[encoded data removed]",
      "text/plain": [
       "<Figure size 720x720 with 5 Axes>"
      ]
     },
     "metadata": {
      "needs_background": "light"
     },
     "output_type": "display_data"
    }
   ],
   "source": [
    "figsize(10,8)\n",
    "cluster = sns.clustermap(distal_exp[distal_exp.columns[4:]],z_score=0,yticklabels=False)\n",
    "clf()\n",
    "distal_exp['cluster'] = fcluster(cluster.dendrogram_row.linkage,4.25,'distance')\n",
    "pal = sns.color_palette()\n",
    "lut = dict(zip(distal_exp.cluster.unique(),pal))\n",
    "row_colors = distal_exp.cluster.map(lut)\n",
    "sns.clustermap(distal_exp[distal_exp.columns[4:-1]],row_linkage=cluster.dendrogram_row.linkage,\n",
    "               col_linkage=cluster.dendrogram_col.linkage,row_colors=row_colors,z_score=0,yticklabels=False)\n",
    "#del distal_exp['cluster']\n",
    "savefig('Cluster-ATAC.svg',kind='svg')"
   ]
  },
  {
   "cell_type": "code",
   "execution_count": null,
   "metadata": {},
   "outputs": [],
   "source": [
    "sns.palplot(pal)"
   ]
  },
  {
   "cell_type": "code",
   "execution_count": null,
   "metadata": {},
   "outputs": [],
   "source": [
    "distal_exp.groupby('cluster').count()"
   ]
  },
  {
   "cell_type": "code",
   "execution_count": null,
   "metadata": {},
   "outputs": [],
   "source": [
    "distal_exp[distal_exp.cluster == 1]"
   ]
  },
  {
   "cell_type": "code",
   "execution_count": null,
   "metadata": {},
   "outputs": [],
   "source": [
    "df = pd.read_csv('../../tss.coverage.txt',sep='\\t')\n",
    "df = df.rename({df.columns[0]:'Distance from Center'},axis=1)\n",
    "df = df.set_index('Distance from Center')\n",
    "keep_cols = []\n",
    "rename_cols = {}\n",
    "for col in df.columns:\n",
    "    if 'Coverage' in col:\n",
    "        keep_cols.append(col)\n",
    "        if 'atac' in col:\n",
    "            rename_cols[col] = 'ATAC'\n",
    "        else:\n",
    "            rename_cols[col] = 'H3K27ac'\n",
    "df = df[keep_cols]\n",
    "df = df.rename(rename_cols,axis=1)\n",
    "df.head()"
   ]
  },
  {
   "cell_type": "code",
   "execution_count": null,
   "metadata": {},
   "outputs": [],
   "source": [
    "['b' for x in range(14)]"
   ]
  },
  {
   "cell_type": "code",
   "execution_count": null,
   "metadata": {},
   "outputs": [],
   "source": [
    "figsize(10,8)\n",
    "df.plot(color = ['b' for x in range(14)]+['r' for x in range(6)])\n",
    "legend(bbox_to_anchor=(1.0, 1.0))\n",
    "ylabel('Coverage')\n",
    "title('Coverage at TSSs')\n",
    "savefig('../../../Pipelines/Rat-Pilot-Analysis/Notebooks/TSS-coverage.png',kind='png')"
   ]
  },
  {
   "cell_type": "code",
   "execution_count": null,
   "metadata": {},
   "outputs": [],
   "source": [
    "atac_cols = []\n",
    "for col in df.columns:\n",
    "    if 'ATAC' in col:\n",
    "        atac_cols.append(col)\n",
    "df[atac_cols].plot()\n",
    "title('Coverage at all TSSs')"
   ]
  },
  {
   "cell_type": "code",
   "execution_count": null,
   "metadata": {},
   "outputs": [],
   "source": [
    "h3k27ac_cols = []\n",
    "for col in df.columns:\n",
    "    if 'H3K27ac' in col:\n",
    "        h3k27ac_cols.append(col)\n",
    "df[h3k27ac_cols].plot()\n",
    "title('Coverage at all TSSs')"
   ]
  },
  {
   "cell_type": "code",
   "execution_count": null,
   "metadata": {},
   "outputs": [],
   "source": []
  }
 ],
 "metadata": {
  "kernelspec": {
   "display_name": "Python 3",
   "language": "python",
   "name": "python3"
  },
  "language_info": {
   "codemirror_mode": {
    "name": "ipython",
    "version": 3
   },
   "file_extension": ".py",
   "mimetype": "text/x-python",
   "name": "python",
   "nbconvert_exporter": "python",
   "pygments_lexer": "ipython3",
   "version": "3.7.3"
  }
 },
 "nbformat": 4,
 "nbformat_minor": 4
}
