{
 "cells": [
  {
   "cell_type": "code",
   "execution_count": null,
   "metadata": {},
   "outputs": [],
   "source": [
    "import os\n",
    "import pandas as pd\n",
    "import matplotlib.pyplot as plt\n",
    "%pylab inline\n",
    "import seaborn as sns\n",
    "from sklearn.decomposition import PCA\n",
    "from scipy.cluster.hierarchy import fcluster"
   ]
  },
  {
   "cell_type": "markdown",
   "metadata": {},
   "source": [
    "Load data"
   ]
  },
  {
   "cell_type": "code",
   "execution_count": null,
   "metadata": {},
   "outputs": [],
   "source": [
    "os.chdir('../../../Rat-Pilot/data/tag_directories/')"
   ]
  },
  {
   "cell_type": "code",
   "execution_count": null,
   "metadata": {},
   "outputs": [],
   "source": [
    "all_exp = pd.read_csv('merged-all.rlog.txt',sep='\\t')\n",
    "colnames = {all_exp.columns[0]:'PeakID'}\n",
    "for col in all_exp.columns[19:]:\n",
    "    colnames[col] = col.split()[0]\n",
    "all_exp = all_exp.rename(colnames,axis=1)\n",
    "all_exp = all_exp[['PeakID','Chr','Start','End','Annotation']+list(all_exp.columns[19:])]\n",
    "all_exp['Annotation'] = all_exp.apply(lambda x: x[4].split()[0].lower(),axis=1)\n",
    "all_exp.head()"
   ]
  },
  {
   "cell_type": "code",
   "execution_count": null,
   "metadata": {},
   "outputs": [],
   "source": [
    "distal_exp = pd.read_csv('merged-distal.rlog.txt',sep='\\t')\n",
    "colnames = {distal_exp.columns[0]:'PeakID'}\n",
    "for col in distal_exp.columns[19:]:\n",
    "    colnames[col] = col.split()[0]\n",
    "distal_exp = distal_exp.rename(colnames,axis=1)\n",
    "distal_exp = distal_exp[['PeakID','Chr','Start','End','Annotation']+list(distal_exp.columns[19:])]\n",
    "del distal_exp['Annotation']\n",
    "distal_exp.head()"
   ]
  },
  {
   "cell_type": "markdown",
   "metadata": {},
   "source": [
    "Separate by annotation"
   ]
  },
  {
   "cell_type": "code",
   "execution_count": null,
   "metadata": {},
   "outputs": [],
   "source": [
    "promoter = all_exp[all_exp.Annotation == 'promoter-tss']\n",
    "del promoter['Annotation']\n",
    "promoter.head()"
   ]
  },
  {
   "cell_type": "markdown",
   "metadata": {},
   "source": [
    "Perform PCA"
   ]
  },
  {
   "cell_type": "code",
   "execution_count": null,
   "metadata": {},
   "outputs": [],
   "source": [
    "pca = PCA(n_components=2)"
   ]
  },
  {
   "cell_type": "code",
   "execution_count": null,
   "metadata": {},
   "outputs": [],
   "source": [
    "principal_components = pca.fit_transform(distal_exp[distal_exp.columns[4:]].T)"
   ]
  },
  {
   "cell_type": "code",
   "execution_count": null,
   "metadata": {},
   "outputs": [],
   "source": [
    "principal_df = pd.DataFrame(data=principal_components,columns=['PC 1','PC 2'])\n",
    "principal_df['Sample'] = distal_exp[distal_exp.columns[4:]].T.index\n",
    "principal_df.head()"
   ]
  },
  {
   "cell_type": "code",
   "execution_count": null,
   "metadata": {},
   "outputs": [],
   "source": [
    "sns.lmplot(x='PC 1',y='PC 2',data=principal_df,hue='Sample',fit_reg=False)\n",
    "title('Distal Peaks')\n",
    "xlabel('PC 1 (39%)')\n",
    "ylabel('PC 2 (31%)')"
   ]
  },
  {
   "cell_type": "code",
   "execution_count": null,
   "metadata": {},
   "outputs": [],
   "source": [
    "pca.explained_variance_ratio_"
   ]
  },
  {
   "cell_type": "code",
   "execution_count": null,
   "metadata": {},
   "outputs": [],
   "source": [
    "principal_components = pca.fit_transform(promoter[promoter.columns[4:]].T)"
   ]
  },
  {
   "cell_type": "code",
   "execution_count": null,
   "metadata": {},
   "outputs": [],
   "source": [
    "principal_df = pd.DataFrame(data=principal_components,columns=['PC 1','PC 2'])\n",
    "principal_df['Sample'] = promoter[promoter.columns[4:]].T.index\n",
    "principal_df.head()"
   ]
  },
  {
   "cell_type": "code",
   "execution_count": null,
   "metadata": {},
   "outputs": [],
   "source": [
    "sns.lmplot(x='PC 1',y='PC 2',data=principal_df,hue='Sample',fit_reg=False)\n",
    "title('Promoter Peaks')\n",
    "xlabel('PC 1 (36%)')\n",
    "ylabel('PC 2 (32%)')"
   ]
  },
  {
   "cell_type": "code",
   "execution_count": null,
   "metadata": {},
   "outputs": [],
   "source": [
    "pca.explained_variance_ratio_"
   ]
  },
  {
   "cell_type": "markdown",
   "metadata": {},
   "source": [
    "Cluster Peaks"
   ]
  },
  {
   "cell_type": "code",
   "execution_count": null,
   "metadata": {},
   "outputs": [],
   "source": [
    "distal_exp['var'] = distal_exp[distal_exp.columns[4:]].var(axis=1)"
   ]
  },
  {
   "cell_type": "code",
   "execution_count": null,
   "metadata": {},
   "outputs": [],
   "source": [
    "distal_exp = distal_exp.nlargest(int(len(distal_exp)/20),'var')\n",
    "del distal_exp['var']\n",
    "distal_exp = distal_exp.set_index('PeakID')"
   ]
  },
  {
   "cell_type": "code",
   "execution_count": null,
   "metadata": {},
   "outputs": [],
   "source": [
    "figsize(10,8)\n",
    "cluster = sns.clustermap(distal_exp[distal_exp.columns[3:]],z_score=0,yticklabels=False)\n",
    "clf()\n",
    "distal_exp['cluster'] = fcluster(cluster.dendrogram_row.linkage,2,'distance')\n",
    "pal = sns.color_palette()\n",
    "lut = dict(zip(distal_exp.cluster.unique(),pal))\n",
    "row_colors = distal_exp.cluster.map(lut)\n",
    "sns.clustermap(distal_exp[distal_exp.columns[3:-1]],row_linkage=cluster.dendrogram_row.linkage,\n",
    "               col_linkage=cluster.dendrogram_col.linkage,row_colors=row_colors,z_score=0,yticklabels=False)\n",
    "del distal_exp['cluster']"
   ]
  },
  {
   "cell_type": "code",
   "execution_count": null,
   "metadata": {},
   "outputs": [],
   "source": []
  }
 ],
 "metadata": {
  "kernelspec": {
   "display_name": "Python 3",
   "language": "python",
   "name": "python3"
  },
  "language_info": {
   "codemirror_mode": {
    "name": "ipython",
    "version": 3
   },
   "file_extension": ".py",
   "mimetype": "text/x-python",
   "name": "python",
   "nbconvert_exporter": "python",
   "pygments_lexer": "ipython3",
   "version": "3.7.3"
  }
 },
 "nbformat": 4,
 "nbformat_minor": 4
}
