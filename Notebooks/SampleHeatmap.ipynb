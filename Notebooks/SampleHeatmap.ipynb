{
 "cells": [
  {
   "cell_type": "code",
   "execution_count": 1,
   "metadata": {
    "collapsed": true,
    "jupyter": {
     "outputs_hidden": true
    }
   },
   "outputs": [
    {
     "name": "stderr",
     "output_type": "stream",
     "text": [
      "Loading required package: S4Vectors\n",
      "Loading required package: stats4\n",
      "Loading required package: BiocGenerics\n",
      "Loading required package: parallel\n",
      "\n",
      "Attaching package: ‘BiocGenerics’\n",
      "\n",
      "The following objects are masked from ‘package:parallel’:\n",
      "\n",
      "    clusterApply, clusterApplyLB, clusterCall, clusterEvalQ,\n",
      "    clusterExport, clusterMap, parApply, parCapply, parLapply,\n",
      "    parLapplyLB, parRapply, parSapply, parSapplyLB\n",
      "\n",
      "The following objects are masked from ‘package:stats’:\n",
      "\n",
      "    IQR, mad, sd, var, xtabs\n",
      "\n",
      "The following objects are masked from ‘package:base’:\n",
      "\n",
      "    anyDuplicated, append, as.data.frame, basename, cbind, colMeans,\n",
      "    colnames, colSums, dirname, do.call, duplicated, eval, evalq,\n",
      "    Filter, Find, get, grep, grepl, intersect, is.unsorted, lapply,\n",
      "    lengths, Map, mapply, match, mget, order, paste, pmax, pmax.int,\n",
      "    pmin, pmin.int, Position, rank, rbind, Reduce, rowMeans, rownames,\n",
      "    rowSums, sapply, setdiff, sort, table, tapply, union, unique,\n",
      "    unsplit, which, which.max, which.min\n",
      "\n",
      "\n",
      "Attaching package: ‘S4Vectors’\n",
      "\n",
      "The following object is masked from ‘package:base’:\n",
      "\n",
      "    expand.grid\n",
      "\n",
      "Loading required package: IRanges\n",
      "Loading required package: GenomicRanges\n",
      "Loading required package: GenomeInfoDb\n",
      "Loading required package: SummarizedExperiment\n",
      "Loading required package: Biobase\n",
      "Welcome to Bioconductor\n",
      "\n",
      "    Vignettes contain introductory material; view with\n",
      "    'browseVignettes()'. To cite Bioconductor, see\n",
      "    'citation(\"Biobase\")', and for packages 'citation(\"pkgname\")'.\n",
      "\n",
      "Loading required package: DelayedArray\n",
      "Loading required package: matrixStats\n",
      "\n",
      "Attaching package: ‘matrixStats’\n",
      "\n",
      "The following objects are masked from ‘package:Biobase’:\n",
      "\n",
      "    anyMissing, rowMedians\n",
      "\n",
      "Loading required package: BiocParallel\n",
      "\n",
      "Attaching package: ‘DelayedArray’\n",
      "\n",
      "The following objects are masked from ‘package:matrixStats’:\n",
      "\n",
      "    colMaxs, colMins, colRanges, rowMaxs, rowMins, rowRanges\n",
      "\n",
      "The following objects are masked from ‘package:base’:\n",
      "\n",
      "    aperm, apply\n",
      "\n"
     ]
    }
   ],
   "source": [
    "library('DESeq2')\n",
    "library('RColorBrewer')\n",
    "library(\"pheatmap\")"
   ]
  },
  {
   "cell_type": "markdown",
   "metadata": {},
   "source": [
    "Load and format expression file"
   ]
  },
  {
   "cell_type": "code",
   "execution_count": 2,
   "metadata": {
    "collapsed": true,
    "jupyter": {
     "outputs_hidden": true
    }
   },
   "outputs": [
    {
     "data": {
      "text/html": [
       "<table>\n",
       "<caption>A data.frame: 6 × 25</caption>\n",
       "<thead>\n",
       "\t<tr><th scope=col>PeakID</th><th scope=col>Chr</th><th scope=col>Start</th><th scope=col>End</th><th scope=col>Strand</th><th scope=col>Peak.Score</th><th scope=col>Focus.Ratio.Region.Size</th><th scope=col>Annotation</th><th scope=col>Detailed.Annotation</th><th scope=col>Distance.to.TSS</th><th scope=col>⋯</th><th scope=col>Gene.Name</th><th scope=col>Gene.Alias</th><th scope=col>Gene.Description</th><th scope=col>Gene.Type</th><th scope=col>IL</th><th scope=col>PL</th><th scope=col>ST</th><th scope=col>AC</th><th scope=col>AS</th><th scope=col>VTA</th></tr>\n",
       "\t<tr><th scope=col>&lt;fct&gt;</th><th scope=col>&lt;fct&gt;</th><th scope=col>&lt;int&gt;</th><th scope=col>&lt;int&gt;</th><th scope=col>&lt;fct&gt;</th><th scope=col>&lt;dbl&gt;</th><th scope=col>&lt;fct&gt;</th><th scope=col>&lt;chr&gt;</th><th scope=col>&lt;fct&gt;</th><th scope=col>&lt;int&gt;</th><th scope=col>⋯</th><th scope=col>&lt;fct&gt;</th><th scope=col>&lt;fct&gt;</th><th scope=col>&lt;fct&gt;</th><th scope=col>&lt;fct&gt;</th><th scope=col>&lt;dbl&gt;</th><th scope=col>&lt;dbl&gt;</th><th scope=col>&lt;dbl&gt;</th><th scope=col>&lt;dbl&gt;</th><th scope=col>&lt;dbl&gt;</th><th scope=col>&lt;dbl&gt;</th></tr>\n",
       "</thead>\n",
       "<tbody>\n",
       "\t<tr><td>Merged-chr4-77447614-7  </td><td>chr4 </td><td> 77446325</td><td> 77448719</td><td>+</td><td>488.4143</td><td>H3K27ac1-IL/regions.txt|H3K27ac2-PL/regions.txt|H3K27ac4-ST/regions.txt|H3K27ac6-AS/regions.txt                                                 </td><td>INTERGENIC                      </td><td>Intergenic                      </td><td>  42013</td><td>⋯</td><td>Pdia4   </td><td>ERp-72|Erp70|Erp72    </td><td>protein disulfide isomerase family A, member 4     </td><td>protein-coding</td><td>11.486580</td><td>11.592882</td><td>11.369450</td><td>11.455429</td><td>11.541023</td><td>11.206650</td></tr>\n",
       "\t<tr><td>Merged-chr12-13804183-10</td><td>chr12</td><td> 13798571</td><td> 13812426</td><td>+</td><td>287.9100</td><td>H3K27ac1-IL/regions.txt|H3K27ac2-PL/regions.txt|H3K27ac4-ST/regions.txt|H3K27ac5-AC/regions.txt|H3K27ac6-AS/regions.txt|H3K27ac7-VTA/regions.txt</td><td>INTERGENIC                      </td><td>Intergenic                      </td><td>  -2321</td><td>⋯</td><td>Tnrc18  </td><td>Zfp469                </td><td>trinucleotide repeat containing 18                 </td><td>protein-coding</td><td>10.518769</td><td>10.435693</td><td>10.974241</td><td>10.252431</td><td>10.399940</td><td>10.374023</td></tr>\n",
       "\t<tr><td>Merged-chr12-38873382-8 </td><td>chr12</td><td> 38869851</td><td> 38879308</td><td>+</td><td>211.8375</td><td>H3K27ac1-IL/regions.txt|H3K27ac2-PL/regions.txt|H3K27ac4-ST/regions.txt|H3K27ac5-AC/regions.txt|H3K27ac6-AS/regions.txt|H3K27ac7-VTA/regions.txt</td><td>INTERGENIC                      </td><td>Intergenic                      </td><td>  41655</td><td>⋯</td><td>Tmem120b</td><td>-                     </td><td>transmembrane protein 120B                         </td><td>protein-coding</td><td> 9.811939</td><td> 9.805325</td><td>10.217660</td><td> 9.469130</td><td> 9.758923</td><td> 9.933961</td></tr>\n",
       "\t<tr><td>Merged-chr4-58505254-7  </td><td>chr4 </td><td> 58501851</td><td> 58509994</td><td>+</td><td>204.8914</td><td>H3K27ac1-IL/regions.txt|H3K27ac2-PL/regions.txt|H3K27ac4-ST/regions.txt|H3K27ac5-AC/regions.txt|H3K27ac6-AS/regions.txt|H3K27ac7-VTA/regions.txt</td><td>INTERGENIC                      </td><td>UCON29|DNA|Kolobok              </td><td>-161532</td><td>⋯</td><td>Mir29b1 </td><td>Mir29b-1|rno-mir-29b-1</td><td>microRNA 29b-1                                     </td><td>ncRNA         </td><td> 9.317609</td><td> 9.653931</td><td>10.054095</td><td> 9.315937</td><td> 9.290063</td><td> 9.478464</td></tr>\n",
       "\t<tr><td>Merged-chr6-110903817-6 </td><td>chr6 </td><td>110901168</td><td>110906468</td><td>+</td><td>203.9167</td><td>H3K27ac1-IL/regions.txt|H3K27ac2-PL/regions.txt|H3K27ac4-ST/regions.txt|H3K27ac5-AC/regions.txt|H3K27ac6-AS/regions.txt|H3K27ac7-VTA/regions.txt</td><td>EXON (NM_001012470, EXON 1 OF 1)</td><td>exon (NM_001012470, exon 1 of 1)</td><td>    470</td><td>⋯</td><td>Irf2bpl </td><td>Eap1|Pqcp|RGD1310994  </td><td>interferon regulatory factor 2 binding protein-like</td><td>protein-coding</td><td> 9.280835</td><td> 9.398107</td><td> 9.625998</td><td> 8.983863</td><td> 9.111870</td><td> 9.107477</td></tr>\n",
       "\t<tr><td>Merged-chr10-37314029-6 </td><td>chr10</td><td> 37311085</td><td> 37317544</td><td>+</td><td>194.2333</td><td>H3K27ac1-IL/regions.txt|H3K27ac2-PL/regions.txt|H3K27ac4-ST/regions.txt|H3K27ac5-AC/regions.txt|H3K27ac6-AS/regions.txt|H3K27ac7-VTA/regions.txt</td><td>INTERGENIC                      </td><td>CpG                             </td><td>  -2689</td><td>⋯</td><td>Jade2   </td><td>Phf15                 </td><td>jade family PHD finger 2                           </td><td>protein-coding</td><td> 9.100498</td><td> 9.177305</td><td> 9.639574</td><td> 8.882499</td><td> 9.036331</td><td> 9.487353</td></tr>\n",
       "</tbody>\n",
       "</table>\n"
      ],
      "text/latex": [
       "A data.frame: 6 × 25\n",
       "\\begin{tabular}{r|lllllllllllllllllllllllll}\n",
       " PeakID & Chr & Start & End & Strand & Peak.Score & Focus.Ratio.Region.Size & Annotation & Detailed.Annotation & Distance.to.TSS & Nearest.PromoterID & Entrez.ID & Nearest.Unigene & Nearest.Refseq & Nearest.Ensembl & Gene.Name & Gene.Alias & Gene.Description & Gene.Type & IL & PL & ST & AC & AS & VTA\\\\\n",
       " <fct> & <fct> & <int> & <int> & <fct> & <dbl> & <fct> & <chr> & <fct> & <int> & <fct> & <int> & <fct> & <fct> & <fct> & <fct> & <fct> & <fct> & <fct> & <dbl> & <dbl> & <dbl> & <dbl> & <dbl> & <dbl>\\\\\n",
       "\\hline\n",
       "\t Merged-chr4-77447614-7   & chr4  &  77446325 &  77448719 & + & 488.4143 & H3K27ac1-IL/regions.txt\\textbar{}H3K27ac2-PL/regions.txt\\textbar{}H3K27ac4-ST/regions.txt\\textbar{}H3K27ac6-AS/regions.txt                                                  & INTERGENIC                       & Intergenic                       &   42013 & NM\\_053849    &    116598 & Rn.39305  & NM\\_053849    & ENSRNOG00000006228 & Pdia4    & ERp-72\\textbar{}Erp70\\textbar{}Erp72     & protein disulfide isomerase family A, member 4      & protein-coding & 11.486580 & 11.592882 & 11.369450 & 11.455429 & 11.541023 & 11.206650\\\\\n",
       "\t Merged-chr12-13804183-10 & chr12 &  13798571 &  13812426 & + & 287.9100 & H3K27ac1-IL/regions.txt\\textbar{}H3K27ac2-PL/regions.txt\\textbar{}H3K27ac4-ST/regions.txt\\textbar{}H3K27ac5-AC/regions.txt\\textbar{}H3K27ac6-AS/regions.txt\\textbar{}H3K27ac7-VTA/regions.txt & INTERGENIC                       & Intergenic                       &   -2321 & NM\\_001107123 &    304302 & Rn.20495  & NM\\_001107123 & ENSRNOG00000024482 & Tnrc18   & Zfp469                 & trinucleotide repeat containing 18                  & protein-coding & 10.518769 & 10.435693 & 10.974241 & 10.252431 & 10.399940 & 10.374023\\\\\n",
       "\t Merged-chr12-38873382-8  & chr12 &  38869851 &  38879308 & + & 211.8375 & H3K27ac1-IL/regions.txt\\textbar{}H3K27ac2-PL/regions.txt\\textbar{}H3K27ac4-ST/regions.txt\\textbar{}H3K27ac5-AC/regions.txt\\textbar{}H3K27ac6-AS/regions.txt\\textbar{}H3K27ac7-VTA/regions.txt & INTERGENIC                       & Intergenic                       &   41655 & NM\\_001271309 &    690137 & Rn.198304 & NM\\_001271309 & ENSRNOG00000048050 & Tmem120b & -                      & transmembrane protein 120B                          & protein-coding &  9.811939 &  9.805325 & 10.217660 &  9.469130 &  9.758923 &  9.933961\\\\\n",
       "\t Merged-chr4-58505254-7   & chr4  &  58501851 &  58509994 & + & 204.8914 & H3K27ac1-IL/regions.txt\\textbar{}H3K27ac2-PL/regions.txt\\textbar{}H3K27ac4-ST/regions.txt\\textbar{}H3K27ac5-AC/regions.txt\\textbar{}H3K27ac6-AS/regions.txt\\textbar{}H3K27ac7-VTA/regions.txt & INTERGENIC                       & UCON29\\textbar{}DNA\\textbar{}Kolobok               & -161532 & NR\\_031837    & 100314008 &           & NR\\_031837    & ENSRNOG00000035463 & Mir29b1  & Mir29b-1\\textbar{}rno-mir-29b-1 & microRNA 29b-1                                      & ncRNA          &  9.317609 &  9.653931 & 10.054095 &  9.315937 &  9.290063 &  9.478464\\\\\n",
       "\t Merged-chr6-110903817-6  & chr6  & 110901168 & 110906468 & + & 203.9167 & H3K27ac1-IL/regions.txt\\textbar{}H3K27ac2-PL/regions.txt\\textbar{}H3K27ac4-ST/regions.txt\\textbar{}H3K27ac5-AC/regions.txt\\textbar{}H3K27ac6-AS/regions.txt\\textbar{}H3K27ac7-VTA/regions.txt & EXON (NM\\_001012470, EXON 1 OF 1) & exon (NM\\_001012470, exon 1 of 1) &     470 & NM\\_001012470 &    314329 & Rn.15682  & NM\\_001012470 & ENSRNOG00000011026 & Irf2bpl  & Eap1\\textbar{}Pqcp\\textbar{}RGD1310994   & interferon regulatory factor 2 binding protein-like & protein-coding &  9.280835 &  9.398107 &  9.625998 &  8.983863 &  9.111870 &  9.107477\\\\\n",
       "\t Merged-chr10-37314029-6  & chr10 &  37311085 &  37317544 & + & 194.2333 & H3K27ac1-IL/regions.txt\\textbar{}H3K27ac2-PL/regions.txt\\textbar{}H3K27ac4-ST/regions.txt\\textbar{}H3K27ac5-AC/regions.txt\\textbar{}H3K27ac6-AS/regions.txt\\textbar{}H3K27ac7-VTA/regions.txt & INTERGENIC                       & CpG                              &   -2689 & NM\\_001106998 &    303113 & Rn.99384  & NM\\_001106998 & ENSRNOG00000004956 & Jade2    & Phf15                  & jade family PHD finger 2                            & protein-coding &  9.100498 &  9.177305 &  9.639574 &  8.882499 &  9.036331 &  9.487353\\\\\n",
       "\\end{tabular}\n"
      ],
      "text/markdown": [
       "\n",
       "A data.frame: 6 × 25\n",
       "\n",
       "| PeakID &lt;fct&gt; | Chr &lt;fct&gt; | Start &lt;int&gt; | End &lt;int&gt; | Strand &lt;fct&gt; | Peak.Score &lt;dbl&gt; | Focus.Ratio.Region.Size &lt;fct&gt; | Annotation &lt;chr&gt; | Detailed.Annotation &lt;fct&gt; | Distance.to.TSS &lt;int&gt; | ⋯ ⋯ | Gene.Name &lt;fct&gt; | Gene.Alias &lt;fct&gt; | Gene.Description &lt;fct&gt; | Gene.Type &lt;fct&gt; | IL &lt;dbl&gt; | PL &lt;dbl&gt; | ST &lt;dbl&gt; | AC &lt;dbl&gt; | AS &lt;dbl&gt; | VTA &lt;dbl&gt; |\n",
       "|---|---|---|---|---|---|---|---|---|---|---|---|---|---|---|---|---|---|---|---|---|\n",
       "| Merged-chr4-77447614-7   | chr4  |  77446325 |  77448719 | + | 488.4143 | H3K27ac1-IL/regions.txt|H3K27ac2-PL/regions.txt|H3K27ac4-ST/regions.txt|H3K27ac6-AS/regions.txt                                                  | INTERGENIC                       | Intergenic                       |   42013 | ⋯ | Pdia4    | ERp-72|Erp70|Erp72     | protein disulfide isomerase family A, member 4      | protein-coding | 11.486580 | 11.592882 | 11.369450 | 11.455429 | 11.541023 | 11.206650 |\n",
       "| Merged-chr12-13804183-10 | chr12 |  13798571 |  13812426 | + | 287.9100 | H3K27ac1-IL/regions.txt|H3K27ac2-PL/regions.txt|H3K27ac4-ST/regions.txt|H3K27ac5-AC/regions.txt|H3K27ac6-AS/regions.txt|H3K27ac7-VTA/regions.txt | INTERGENIC                       | Intergenic                       |   -2321 | ⋯ | Tnrc18   | Zfp469                 | trinucleotide repeat containing 18                  | protein-coding | 10.518769 | 10.435693 | 10.974241 | 10.252431 | 10.399940 | 10.374023 |\n",
       "| Merged-chr12-38873382-8  | chr12 |  38869851 |  38879308 | + | 211.8375 | H3K27ac1-IL/regions.txt|H3K27ac2-PL/regions.txt|H3K27ac4-ST/regions.txt|H3K27ac5-AC/regions.txt|H3K27ac6-AS/regions.txt|H3K27ac7-VTA/regions.txt | INTERGENIC                       | Intergenic                       |   41655 | ⋯ | Tmem120b | -                      | transmembrane protein 120B                          | protein-coding |  9.811939 |  9.805325 | 10.217660 |  9.469130 |  9.758923 |  9.933961 |\n",
       "| Merged-chr4-58505254-7   | chr4  |  58501851 |  58509994 | + | 204.8914 | H3K27ac1-IL/regions.txt|H3K27ac2-PL/regions.txt|H3K27ac4-ST/regions.txt|H3K27ac5-AC/regions.txt|H3K27ac6-AS/regions.txt|H3K27ac7-VTA/regions.txt | INTERGENIC                       | UCON29|DNA|Kolobok               | -161532 | ⋯ | Mir29b1  | Mir29b-1|rno-mir-29b-1 | microRNA 29b-1                                      | ncRNA          |  9.317609 |  9.653931 | 10.054095 |  9.315937 |  9.290063 |  9.478464 |\n",
       "| Merged-chr6-110903817-6  | chr6  | 110901168 | 110906468 | + | 203.9167 | H3K27ac1-IL/regions.txt|H3K27ac2-PL/regions.txt|H3K27ac4-ST/regions.txt|H3K27ac5-AC/regions.txt|H3K27ac6-AS/regions.txt|H3K27ac7-VTA/regions.txt | EXON (NM_001012470, EXON 1 OF 1) | exon (NM_001012470, exon 1 of 1) |     470 | ⋯ | Irf2bpl  | Eap1|Pqcp|RGD1310994   | interferon regulatory factor 2 binding protein-like | protein-coding |  9.280835 |  9.398107 |  9.625998 |  8.983863 |  9.111870 |  9.107477 |\n",
       "| Merged-chr10-37314029-6  | chr10 |  37311085 |  37317544 | + | 194.2333 | H3K27ac1-IL/regions.txt|H3K27ac2-PL/regions.txt|H3K27ac4-ST/regions.txt|H3K27ac5-AC/regions.txt|H3K27ac6-AS/regions.txt|H3K27ac7-VTA/regions.txt | INTERGENIC                       | CpG                              |   -2689 | ⋯ | Jade2    | Phf15                  | jade family PHD finger 2                            | protein-coding |  9.100498 |  9.177305 |  9.639574 |  8.882499 |  9.036331 |  9.487353 |\n",
       "\n"
      ],
      "text/plain": [
       "  PeakID                   Chr   Start     End       Strand Peak.Score\n",
       "1 Merged-chr4-77447614-7   chr4   77446325  77448719 +      488.4143  \n",
       "2 Merged-chr12-13804183-10 chr12  13798571  13812426 +      287.9100  \n",
       "3 Merged-chr12-38873382-8  chr12  38869851  38879308 +      211.8375  \n",
       "4 Merged-chr4-58505254-7   chr4   58501851  58509994 +      204.8914  \n",
       "5 Merged-chr6-110903817-6  chr6  110901168 110906468 +      203.9167  \n",
       "6 Merged-chr10-37314029-6  chr10  37311085  37317544 +      194.2333  \n",
       "  Focus.Ratio.Region.Size                                                                                                                         \n",
       "1 H3K27ac1-IL/regions.txt|H3K27ac2-PL/regions.txt|H3K27ac4-ST/regions.txt|H3K27ac6-AS/regions.txt                                                 \n",
       "2 H3K27ac1-IL/regions.txt|H3K27ac2-PL/regions.txt|H3K27ac4-ST/regions.txt|H3K27ac5-AC/regions.txt|H3K27ac6-AS/regions.txt|H3K27ac7-VTA/regions.txt\n",
       "3 H3K27ac1-IL/regions.txt|H3K27ac2-PL/regions.txt|H3K27ac4-ST/regions.txt|H3K27ac5-AC/regions.txt|H3K27ac6-AS/regions.txt|H3K27ac7-VTA/regions.txt\n",
       "4 H3K27ac1-IL/regions.txt|H3K27ac2-PL/regions.txt|H3K27ac4-ST/regions.txt|H3K27ac5-AC/regions.txt|H3K27ac6-AS/regions.txt|H3K27ac7-VTA/regions.txt\n",
       "5 H3K27ac1-IL/regions.txt|H3K27ac2-PL/regions.txt|H3K27ac4-ST/regions.txt|H3K27ac5-AC/regions.txt|H3K27ac6-AS/regions.txt|H3K27ac7-VTA/regions.txt\n",
       "6 H3K27ac1-IL/regions.txt|H3K27ac2-PL/regions.txt|H3K27ac4-ST/regions.txt|H3K27ac5-AC/regions.txt|H3K27ac6-AS/regions.txt|H3K27ac7-VTA/regions.txt\n",
       "  Annotation                       Detailed.Annotation             \n",
       "1 INTERGENIC                       Intergenic                      \n",
       "2 INTERGENIC                       Intergenic                      \n",
       "3 INTERGENIC                       Intergenic                      \n",
       "4 INTERGENIC                       UCON29|DNA|Kolobok              \n",
       "5 EXON (NM_001012470, EXON 1 OF 1) exon (NM_001012470, exon 1 of 1)\n",
       "6 INTERGENIC                       CpG                             \n",
       "  Distance.to.TSS ⋯ Gene.Name Gene.Alias            \n",
       "1   42013         ⋯ Pdia4     ERp-72|Erp70|Erp72    \n",
       "2   -2321         ⋯ Tnrc18    Zfp469                \n",
       "3   41655         ⋯ Tmem120b  -                     \n",
       "4 -161532         ⋯ Mir29b1   Mir29b-1|rno-mir-29b-1\n",
       "5     470         ⋯ Irf2bpl   Eap1|Pqcp|RGD1310994  \n",
       "6   -2689         ⋯ Jade2     Phf15                 \n",
       "  Gene.Description                                    Gene.Type      IL       \n",
       "1 protein disulfide isomerase family A, member 4      protein-coding 11.486580\n",
       "2 trinucleotide repeat containing 18                  protein-coding 10.518769\n",
       "3 transmembrane protein 120B                          protein-coding  9.811939\n",
       "4 microRNA 29b-1                                      ncRNA           9.317609\n",
       "5 interferon regulatory factor 2 binding protein-like protein-coding  9.280835\n",
       "6 jade family PHD finger 2                            protein-coding  9.100498\n",
       "  PL        ST        AC        AS        VTA      \n",
       "1 11.592882 11.369450 11.455429 11.541023 11.206650\n",
       "2 10.435693 10.974241 10.252431 10.399940 10.374023\n",
       "3  9.805325 10.217660  9.469130  9.758923  9.933961\n",
       "4  9.653931 10.054095  9.315937  9.290063  9.478464\n",
       "5  9.398107  9.625998  8.983863  9.111870  9.107477\n",
       "6  9.177305  9.639574  8.882499  9.036331  9.487353"
      ]
     },
     "metadata": {},
     "output_type": "display_data"
    }
   ],
   "source": [
    "all_exp <- read.csv('../../../Rat-Pilot/data/tag_directories/merged-all.rlog.txt',sep='\\t',\n",
    "                    col.names=c('PeakID','Chr','Start','End','Strand','Peak.Score','Focus.Ratio.Region.Size','Annotation',\n",
    "                                'Detailed.Annotation','Distance.to.TSS','Nearest.PromoterID','Entrez.ID','Nearest.Unigene',\n",
    "                                'Nearest.Refseq','Nearest.Ensembl','Gene.Name','Gene.Alias','Gene.Description','Gene.Type','IL','PL',\n",
    "                                'ST','AC','AS','VTA'))\n",
    "all_exp$Annotation <- toupper(all_exp$Annotation)\n",
    "head(all_exp)"
   ]
  },
  {
   "cell_type": "code",
   "execution_count": 3,
   "metadata": {
    "collapsed": true,
    "jupyter": {
     "outputs_hidden": true
    }
   },
   "outputs": [
    {
     "data": {
      "text/html": [
       "<table>\n",
       "<caption>A data.frame: 6 × 25</caption>\n",
       "<thead>\n",
       "\t<tr><th scope=col>PeakID</th><th scope=col>Chr</th><th scope=col>Start</th><th scope=col>End</th><th scope=col>Strand</th><th scope=col>Peak.Score</th><th scope=col>Focus.Ratio.Region.Size</th><th scope=col>Annotation</th><th scope=col>Detailed.Annotation</th><th scope=col>Distance.to.TSS</th><th scope=col>⋯</th><th scope=col>Gene.Name</th><th scope=col>Gene.Alias</th><th scope=col>Gene.Description</th><th scope=col>Gene.Type</th><th scope=col>IL</th><th scope=col>PL</th><th scope=col>ST</th><th scope=col>AC</th><th scope=col>AS</th><th scope=col>VTA</th></tr>\n",
       "\t<tr><th scope=col>&lt;fct&gt;</th><th scope=col>&lt;fct&gt;</th><th scope=col>&lt;int&gt;</th><th scope=col>&lt;int&gt;</th><th scope=col>&lt;fct&gt;</th><th scope=col>&lt;dbl&gt;</th><th scope=col>&lt;fct&gt;</th><th scope=col>&lt;fct&gt;</th><th scope=col>&lt;fct&gt;</th><th scope=col>&lt;int&gt;</th><th scope=col>⋯</th><th scope=col>&lt;fct&gt;</th><th scope=col>&lt;fct&gt;</th><th scope=col>&lt;fct&gt;</th><th scope=col>&lt;fct&gt;</th><th scope=col>&lt;dbl&gt;</th><th scope=col>&lt;dbl&gt;</th><th scope=col>&lt;dbl&gt;</th><th scope=col>&lt;dbl&gt;</th><th scope=col>&lt;dbl&gt;</th><th scope=col>&lt;dbl&gt;</th></tr>\n",
       "</thead>\n",
       "<tbody>\n",
       "\t<tr><td>Merged-chr4-77447614-7 </td><td>chr4 </td><td> 77446325</td><td> 77448719</td><td>+</td><td>488.4143</td><td>H3K27ac1-IL/regions-distal.txt|H3K27ac2-PL/regions-distal.txt|H3K27ac4-ST/regions-distal.txt|H3K27ac6-AS/regions-distal.txt                                                               </td><td>Intergenic                           </td><td>Intergenic                           </td><td>  42013</td><td>⋯</td><td>Pdia4   </td><td>ERp-72|Erp70|Erp72    </td><td>protein disulfide isomerase family A, member 4</td><td>protein-coding</td><td>11.484885</td><td>11.602431</td><td>11.37885</td><td>11.437943</td><td>11.530435</td><td>11.213555</td></tr>\n",
       "\t<tr><td>Merged-chr10-86663032-7</td><td>chr10</td><td> 86653749</td><td> 86673177</td><td>+</td><td>290.8714</td><td>H3K27ac1-IL/regions-distal.txt|H3K27ac2-PL/regions-distal.txt|H3K27ac4-ST/regions-distal.txt|H3K27ac5-AC/regions-distal.txt|H3K27ac6-AS/regions-distal.txt|H3K27ac7-VTA/regions-distal.txt</td><td>intron (NM_001017960, intron 1 of 8) </td><td>intron (NM_001017960, intron 1 of 8) </td><td>  -5770</td><td>⋯</td><td>Thra    </td><td>ERBA1|Thra1|c-erbA-1  </td><td>thyroid hormone receptor alpha                </td><td>protein-coding</td><td>10.498940</td><td>10.590764</td><td>11.00120</td><td>10.443036</td><td>10.422055</td><td>10.696226</td></tr>\n",
       "\t<tr><td>Merged-chr2-188000421-8</td><td>chr2 </td><td>187991336</td><td>188006123</td><td>+</td><td>258.4500</td><td>H3K27ac1-IL/regions-distal.txt|H3K27ac2-PL/regions-distal.txt|H3K27ac4-ST/regions-distal.txt|H3K27ac5-AC/regions-distal.txt|H3K27ac6-AS/regions-distal.txt|H3K27ac7-VTA/regions-distal.txt</td><td>intron (NM_001012079, intron 1 of 21)</td><td>intron (NM_001012079, intron 1 of 21)</td><td>   4931</td><td>⋯</td><td>Arhgef2 </td><td>-                     </td><td>Rho/Rac guanine nucleotide exchange factor 2  </td><td>protein-coding</td><td>10.233502</td><td>10.312821</td><td>10.61850</td><td>10.163679</td><td>10.140780</td><td>10.626215</td></tr>\n",
       "\t<tr><td>Merged-chr12-38873382-8</td><td>chr12</td><td> 38869851</td><td> 38879308</td><td>+</td><td>211.8375</td><td>H3K27ac1-IL/regions-distal.txt|H3K27ac2-PL/regions-distal.txt|H3K27ac4-ST/regions-distal.txt|H3K27ac5-AC/regions-distal.txt|H3K27ac6-AS/regions-distal.txt|H3K27ac7-VTA/regions-distal.txt</td><td>Intergenic                           </td><td>Intergenic                           </td><td>  41655</td><td>⋯</td><td>Tmem120b</td><td>-                     </td><td>transmembrane protein 120B                    </td><td>protein-coding</td><td> 9.810572</td><td> 9.815572</td><td>10.22544</td><td> 9.452997</td><td> 9.749286</td><td> 9.939129</td></tr>\n",
       "\t<tr><td>Merged-chr4-58505254-7 </td><td>chr4 </td><td> 58501851</td><td> 58509994</td><td>+</td><td>204.8914</td><td>H3K27ac1-IL/regions-distal.txt|H3K27ac2-PL/regions-distal.txt|H3K27ac4-ST/regions-distal.txt|H3K27ac5-AC/regions-distal.txt|H3K27ac6-AS/regions-distal.txt|H3K27ac7-VTA/regions-distal.txt</td><td>Intergenic                           </td><td>UCON29|DNA|Kolobok                   </td><td>-161532</td><td>⋯</td><td>Mir29b1 </td><td>Mir29b-1|rno-mir-29b-1</td><td>microRNA 29b-1                                </td><td>ncRNA         </td><td> 9.316471</td><td> 9.663856</td><td>10.06196</td><td> 9.299286</td><td> 9.280606</td><td> 9.483892</td></tr>\n",
       "\t<tr><td>Merged-chr7-139275764-5</td><td>chr7 </td><td>139271293</td><td>139279460</td><td>+</td><td>194.3800</td><td>H3K27ac1-IL/regions-distal.txt|H3K27ac2-PL/regions-distal.txt|H3K27ac4-ST/regions-distal.txt|H3K27ac5-AC/regions-distal.txt|H3K27ac7-VTA/regions-distal.txt                               </td><td>intron (NM_001127456, intron 1 of 2) </td><td>tRNA-Ala-GCA|tRNA|tRNA               </td><td>   3678</td><td>⋯</td><td>Slc48a1 </td><td>HRG-1|Hrg1            </td><td>solute carrier family 48 member 1             </td><td>protein-coding</td><td> 9.148361</td><td> 9.307769</td><td> 9.55112</td><td> 9.078237</td><td> 9.034622</td><td> 9.688760</td></tr>\n",
       "</tbody>\n",
       "</table>\n"
      ],
      "text/latex": [
       "A data.frame: 6 × 25\n",
       "\\begin{tabular}{r|lllllllllllllllllllllllll}\n",
       " PeakID & Chr & Start & End & Strand & Peak.Score & Focus.Ratio.Region.Size & Annotation & Detailed.Annotation & Distance.to.TSS & Nearest.PromoterID & Entrez.ID & Nearest.Unigene & Nearest.Refseq & Nearest.Ensembl & Gene.Name & Gene.Alias & Gene.Description & Gene.Type & IL & PL & ST & AC & AS & VTA\\\\\n",
       " <fct> & <fct> & <int> & <int> & <fct> & <dbl> & <fct> & <fct> & <fct> & <int> & <fct> & <int> & <fct> & <fct> & <fct> & <fct> & <fct> & <fct> & <fct> & <dbl> & <dbl> & <dbl> & <dbl> & <dbl> & <dbl>\\\\\n",
       "\\hline\n",
       "\t Merged-chr4-77447614-7  & chr4  &  77446325 &  77448719 & + & 488.4143 & H3K27ac1-IL/regions-distal.txt\\textbar{}H3K27ac2-PL/regions-distal.txt\\textbar{}H3K27ac4-ST/regions-distal.txt\\textbar{}H3K27ac6-AS/regions-distal.txt                                                                & Intergenic                            & Intergenic                            &   42013 & NM\\_053849    &    116598 & Rn.39305  & NM\\_053849    & ENSRNOG00000006228 & Pdia4    & ERp-72\\textbar{}Erp70\\textbar{}Erp72     & protein disulfide isomerase family A, member 4 & protein-coding & 11.484885 & 11.602431 & 11.37885 & 11.437943 & 11.530435 & 11.213555\\\\\n",
       "\t Merged-chr10-86663032-7 & chr10 &  86653749 &  86673177 & + & 290.8714 & H3K27ac1-IL/regions-distal.txt\\textbar{}H3K27ac2-PL/regions-distal.txt\\textbar{}H3K27ac4-ST/regions-distal.txt\\textbar{}H3K27ac5-AC/regions-distal.txt\\textbar{}H3K27ac6-AS/regions-distal.txt\\textbar{}H3K27ac7-VTA/regions-distal.txt & intron (NM\\_001017960, intron 1 of 8)  & intron (NM\\_001017960, intron 1 of 8)  &   -5770 & NM\\_031134    &     81812 & Rn.11307  & NM\\_031134    & ENSRNOG00000009066 & Thra     & ERBA1\\textbar{}Thra1\\textbar{}c-erbA-1   & thyroid hormone receptor alpha                 & protein-coding & 10.498940 & 10.590764 & 11.00120 & 10.443036 & 10.422055 & 10.696226\\\\\n",
       "\t Merged-chr2-188000421-8 & chr2  & 187991336 & 188006123 & + & 258.4500 & H3K27ac1-IL/regions-distal.txt\\textbar{}H3K27ac2-PL/regions-distal.txt\\textbar{}H3K27ac4-ST/regions-distal.txt\\textbar{}H3K27ac5-AC/regions-distal.txt\\textbar{}H3K27ac6-AS/regions-distal.txt\\textbar{}H3K27ac7-VTA/regions-distal.txt & intron (NM\\_001012079, intron 1 of 21) & intron (NM\\_001012079, intron 1 of 21) &    4931 & NM\\_001012079 &    310635 & Rn.12255  & NM\\_001012079 & ENSRNOG00000020027 & Arhgef2  & -                      & Rho/Rac guanine nucleotide exchange factor 2   & protein-coding & 10.233502 & 10.312821 & 10.61850 & 10.163679 & 10.140780 & 10.626215\\\\\n",
       "\t Merged-chr12-38873382-8 & chr12 &  38869851 &  38879308 & + & 211.8375 & H3K27ac1-IL/regions-distal.txt\\textbar{}H3K27ac2-PL/regions-distal.txt\\textbar{}H3K27ac4-ST/regions-distal.txt\\textbar{}H3K27ac5-AC/regions-distal.txt\\textbar{}H3K27ac6-AS/regions-distal.txt\\textbar{}H3K27ac7-VTA/regions-distal.txt & Intergenic                            & Intergenic                            &   41655 & NM\\_001271309 &    690137 & Rn.198304 & NM\\_001271309 & ENSRNOG00000048050 & Tmem120b & -                      & transmembrane protein 120B                     & protein-coding &  9.810572 &  9.815572 & 10.22544 &  9.452997 &  9.749286 &  9.939129\\\\\n",
       "\t Merged-chr4-58505254-7  & chr4  &  58501851 &  58509994 & + & 204.8914 & H3K27ac1-IL/regions-distal.txt\\textbar{}H3K27ac2-PL/regions-distal.txt\\textbar{}H3K27ac4-ST/regions-distal.txt\\textbar{}H3K27ac5-AC/regions-distal.txt\\textbar{}H3K27ac6-AS/regions-distal.txt\\textbar{}H3K27ac7-VTA/regions-distal.txt & Intergenic                            & UCON29\\textbar{}DNA\\textbar{}Kolobok                    & -161532 & NR\\_031837    & 100314008 &           & NR\\_031837    & ENSRNOG00000035463 & Mir29b1  & Mir29b-1\\textbar{}rno-mir-29b-1 & microRNA 29b-1                                 & ncRNA          &  9.316471 &  9.663856 & 10.06196 &  9.299286 &  9.280606 &  9.483892\\\\\n",
       "\t Merged-chr7-139275764-5 & chr7  & 139271293 & 139279460 & + & 194.3800 & H3K27ac1-IL/regions-distal.txt\\textbar{}H3K27ac2-PL/regions-distal.txt\\textbar{}H3K27ac4-ST/regions-distal.txt\\textbar{}H3K27ac5-AC/regions-distal.txt\\textbar{}H3K27ac7-VTA/regions-distal.txt                                & intron (NM\\_001127456, intron 1 of 2)  & tRNA-Ala-GCA\\textbar{}tRNA\\textbar{}tRNA                &    3678 & NM\\_001127456 &    300191 & Rn.32236  & NM\\_001127456 & ENSRNOG00000053196 & Slc48a1  & HRG-1\\textbar{}Hrg1             & solute carrier family 48 member 1              & protein-coding &  9.148361 &  9.307769 &  9.55112 &  9.078237 &  9.034622 &  9.688760\\\\\n",
       "\\end{tabular}\n"
      ],
      "text/markdown": [
       "\n",
       "A data.frame: 6 × 25\n",
       "\n",
       "| PeakID &lt;fct&gt; | Chr &lt;fct&gt; | Start &lt;int&gt; | End &lt;int&gt; | Strand &lt;fct&gt; | Peak.Score &lt;dbl&gt; | Focus.Ratio.Region.Size &lt;fct&gt; | Annotation &lt;fct&gt; | Detailed.Annotation &lt;fct&gt; | Distance.to.TSS &lt;int&gt; | ⋯ ⋯ | Gene.Name &lt;fct&gt; | Gene.Alias &lt;fct&gt; | Gene.Description &lt;fct&gt; | Gene.Type &lt;fct&gt; | IL &lt;dbl&gt; | PL &lt;dbl&gt; | ST &lt;dbl&gt; | AC &lt;dbl&gt; | AS &lt;dbl&gt; | VTA &lt;dbl&gt; |\n",
       "|---|---|---|---|---|---|---|---|---|---|---|---|---|---|---|---|---|---|---|---|---|\n",
       "| Merged-chr4-77447614-7  | chr4  |  77446325 |  77448719 | + | 488.4143 | H3K27ac1-IL/regions-distal.txt|H3K27ac2-PL/regions-distal.txt|H3K27ac4-ST/regions-distal.txt|H3K27ac6-AS/regions-distal.txt                                                                | Intergenic                            | Intergenic                            |   42013 | ⋯ | Pdia4    | ERp-72|Erp70|Erp72     | protein disulfide isomerase family A, member 4 | protein-coding | 11.484885 | 11.602431 | 11.37885 | 11.437943 | 11.530435 | 11.213555 |\n",
       "| Merged-chr10-86663032-7 | chr10 |  86653749 |  86673177 | + | 290.8714 | H3K27ac1-IL/regions-distal.txt|H3K27ac2-PL/regions-distal.txt|H3K27ac4-ST/regions-distal.txt|H3K27ac5-AC/regions-distal.txt|H3K27ac6-AS/regions-distal.txt|H3K27ac7-VTA/regions-distal.txt | intron (NM_001017960, intron 1 of 8)  | intron (NM_001017960, intron 1 of 8)  |   -5770 | ⋯ | Thra     | ERBA1|Thra1|c-erbA-1   | thyroid hormone receptor alpha                 | protein-coding | 10.498940 | 10.590764 | 11.00120 | 10.443036 | 10.422055 | 10.696226 |\n",
       "| Merged-chr2-188000421-8 | chr2  | 187991336 | 188006123 | + | 258.4500 | H3K27ac1-IL/regions-distal.txt|H3K27ac2-PL/regions-distal.txt|H3K27ac4-ST/regions-distal.txt|H3K27ac5-AC/regions-distal.txt|H3K27ac6-AS/regions-distal.txt|H3K27ac7-VTA/regions-distal.txt | intron (NM_001012079, intron 1 of 21) | intron (NM_001012079, intron 1 of 21) |    4931 | ⋯ | Arhgef2  | -                      | Rho/Rac guanine nucleotide exchange factor 2   | protein-coding | 10.233502 | 10.312821 | 10.61850 | 10.163679 | 10.140780 | 10.626215 |\n",
       "| Merged-chr12-38873382-8 | chr12 |  38869851 |  38879308 | + | 211.8375 | H3K27ac1-IL/regions-distal.txt|H3K27ac2-PL/regions-distal.txt|H3K27ac4-ST/regions-distal.txt|H3K27ac5-AC/regions-distal.txt|H3K27ac6-AS/regions-distal.txt|H3K27ac7-VTA/regions-distal.txt | Intergenic                            | Intergenic                            |   41655 | ⋯ | Tmem120b | -                      | transmembrane protein 120B                     | protein-coding |  9.810572 |  9.815572 | 10.22544 |  9.452997 |  9.749286 |  9.939129 |\n",
       "| Merged-chr4-58505254-7  | chr4  |  58501851 |  58509994 | + | 204.8914 | H3K27ac1-IL/regions-distal.txt|H3K27ac2-PL/regions-distal.txt|H3K27ac4-ST/regions-distal.txt|H3K27ac5-AC/regions-distal.txt|H3K27ac6-AS/regions-distal.txt|H3K27ac7-VTA/regions-distal.txt | Intergenic                            | UCON29|DNA|Kolobok                    | -161532 | ⋯ | Mir29b1  | Mir29b-1|rno-mir-29b-1 | microRNA 29b-1                                 | ncRNA          |  9.316471 |  9.663856 | 10.06196 |  9.299286 |  9.280606 |  9.483892 |\n",
       "| Merged-chr7-139275764-5 | chr7  | 139271293 | 139279460 | + | 194.3800 | H3K27ac1-IL/regions-distal.txt|H3K27ac2-PL/regions-distal.txt|H3K27ac4-ST/regions-distal.txt|H3K27ac5-AC/regions-distal.txt|H3K27ac7-VTA/regions-distal.txt                                | intron (NM_001127456, intron 1 of 2)  | tRNA-Ala-GCA|tRNA|tRNA                |    3678 | ⋯ | Slc48a1  | HRG-1|Hrg1             | solute carrier family 48 member 1              | protein-coding |  9.148361 |  9.307769 |  9.55112 |  9.078237 |  9.034622 |  9.688760 |\n",
       "\n"
      ],
      "text/plain": [
       "  PeakID                  Chr   Start     End       Strand Peak.Score\n",
       "1 Merged-chr4-77447614-7  chr4   77446325  77448719 +      488.4143  \n",
       "2 Merged-chr10-86663032-7 chr10  86653749  86673177 +      290.8714  \n",
       "3 Merged-chr2-188000421-8 chr2  187991336 188006123 +      258.4500  \n",
       "4 Merged-chr12-38873382-8 chr12  38869851  38879308 +      211.8375  \n",
       "5 Merged-chr4-58505254-7  chr4   58501851  58509994 +      204.8914  \n",
       "6 Merged-chr7-139275764-5 chr7  139271293 139279460 +      194.3800  \n",
       "  Focus.Ratio.Region.Size                                                                                                                                                                   \n",
       "1 H3K27ac1-IL/regions-distal.txt|H3K27ac2-PL/regions-distal.txt|H3K27ac4-ST/regions-distal.txt|H3K27ac6-AS/regions-distal.txt                                                               \n",
       "2 H3K27ac1-IL/regions-distal.txt|H3K27ac2-PL/regions-distal.txt|H3K27ac4-ST/regions-distal.txt|H3K27ac5-AC/regions-distal.txt|H3K27ac6-AS/regions-distal.txt|H3K27ac7-VTA/regions-distal.txt\n",
       "3 H3K27ac1-IL/regions-distal.txt|H3K27ac2-PL/regions-distal.txt|H3K27ac4-ST/regions-distal.txt|H3K27ac5-AC/regions-distal.txt|H3K27ac6-AS/regions-distal.txt|H3K27ac7-VTA/regions-distal.txt\n",
       "4 H3K27ac1-IL/regions-distal.txt|H3K27ac2-PL/regions-distal.txt|H3K27ac4-ST/regions-distal.txt|H3K27ac5-AC/regions-distal.txt|H3K27ac6-AS/regions-distal.txt|H3K27ac7-VTA/regions-distal.txt\n",
       "5 H3K27ac1-IL/regions-distal.txt|H3K27ac2-PL/regions-distal.txt|H3K27ac4-ST/regions-distal.txt|H3K27ac5-AC/regions-distal.txt|H3K27ac6-AS/regions-distal.txt|H3K27ac7-VTA/regions-distal.txt\n",
       "6 H3K27ac1-IL/regions-distal.txt|H3K27ac2-PL/regions-distal.txt|H3K27ac4-ST/regions-distal.txt|H3K27ac5-AC/regions-distal.txt|H3K27ac7-VTA/regions-distal.txt                               \n",
       "  Annotation                            Detailed.Annotation                  \n",
       "1 Intergenic                            Intergenic                           \n",
       "2 intron (NM_001017960, intron 1 of 8)  intron (NM_001017960, intron 1 of 8) \n",
       "3 intron (NM_001012079, intron 1 of 21) intron (NM_001012079, intron 1 of 21)\n",
       "4 Intergenic                            Intergenic                           \n",
       "5 Intergenic                            UCON29|DNA|Kolobok                   \n",
       "6 intron (NM_001127456, intron 1 of 2)  tRNA-Ala-GCA|tRNA|tRNA               \n",
       "  Distance.to.TSS ⋯ Gene.Name Gene.Alias            \n",
       "1   42013         ⋯ Pdia4     ERp-72|Erp70|Erp72    \n",
       "2   -5770         ⋯ Thra      ERBA1|Thra1|c-erbA-1  \n",
       "3    4931         ⋯ Arhgef2   -                     \n",
       "4   41655         ⋯ Tmem120b  -                     \n",
       "5 -161532         ⋯ Mir29b1   Mir29b-1|rno-mir-29b-1\n",
       "6    3678         ⋯ Slc48a1   HRG-1|Hrg1            \n",
       "  Gene.Description                               Gene.Type      IL       \n",
       "1 protein disulfide isomerase family A, member 4 protein-coding 11.484885\n",
       "2 thyroid hormone receptor alpha                 protein-coding 10.498940\n",
       "3 Rho/Rac guanine nucleotide exchange factor 2   protein-coding 10.233502\n",
       "4 transmembrane protein 120B                     protein-coding  9.810572\n",
       "5 microRNA 29b-1                                 ncRNA           9.316471\n",
       "6 solute carrier family 48 member 1              protein-coding  9.148361\n",
       "  PL        ST       AC        AS        VTA      \n",
       "1 11.602431 11.37885 11.437943 11.530435 11.213555\n",
       "2 10.590764 11.00120 10.443036 10.422055 10.696226\n",
       "3 10.312821 10.61850 10.163679 10.140780 10.626215\n",
       "4  9.815572 10.22544  9.452997  9.749286  9.939129\n",
       "5  9.663856 10.06196  9.299286  9.280606  9.483892\n",
       "6  9.307769  9.55112  9.078237  9.034622  9.688760"
      ]
     },
     "metadata": {},
     "output_type": "display_data"
    }
   ],
   "source": [
    "distal_exp <- read.csv('../../../Rat-Pilot/data/tag_directories/merged-distal.rlog.txt',sep='\\t',\n",
    "                       col.names=c('PeakID','Chr','Start','End','Strand','Peak.Score','Focus.Ratio.Region.Size','Annotation',\n",
    "                                   'Detailed.Annotation','Distance.to.TSS','Nearest.PromoterID','Entrez.ID','Nearest.Unigene',\n",
    "                                   'Nearest.Refseq','Nearest.Ensembl','Gene.Name','Gene.Alias','Gene.Description','Gene.Type','IL','PL',\n",
    "                                   'ST','AC','AS','VTA'))\n",
    "head(distal_exp)"
   ]
  },
  {
   "cell_type": "markdown",
   "metadata": {},
   "source": [
    "Subset annotations by region"
   ]
  },
  {
   "cell_type": "code",
   "execution_count": 4,
   "metadata": {},
   "outputs": [],
   "source": [
    "promoter <- subset(all_exp,grepl('PROMOTER',all_exp$Annotation))"
   ]
  },
  {
   "cell_type": "markdown",
   "metadata": {},
   "source": [
    "Format dataframe for heatmap"
   ]
  },
  {
   "cell_type": "code",
   "execution_count": 5,
   "metadata": {},
   "outputs": [],
   "source": [
    "#Set PeakID as the rownames\n",
    "rownames(promoter) <- promoter$PeakID\n",
    "promoter$PeakID <- NULL\n",
    "\n",
    "rownames(distal_exp) <- distal_exp$PeakID\n",
    "distal_exp$PeakID <- NULL"
   ]
  },
  {
   "cell_type": "code",
   "execution_count": 6,
   "metadata": {},
   "outputs": [],
   "source": [
    "#Limit dataframe to experiments.\n",
    "promoter <- promoter[,c(19:24)]\n",
    "\n",
    "distal_exp <- distal_exp[,c(19:24)]"
   ]
  },
  {
   "cell_type": "code",
   "execution_count": 7,
   "metadata": {},
   "outputs": [],
   "source": [
    "#Get sample distances.\n",
    "promoterDists <- dist(t(promoter))\n",
    "promoterDistsMatrix <- as.matrix(promoterDists)\n",
    "colnames(promoterDistsMatrix) <- NULL\n",
    "\n",
    "distalDists <- dist(t(distal_exp))\n",
    "distalDistsMatrix <- as.matrix(distalDists)\n",
    "colnames(distalDistsMatrix) <- NULL"
   ]
  },
  {
   "cell_type": "markdown",
   "metadata": {},
   "source": [
    "Plot heatmap"
   ]
  },
  {
   "cell_type": "code",
   "execution_count": 8,
   "metadata": {},
   "outputs": [],
   "source": [
    "colors <- colorRampPalette(rev(brewer.pal(6,\"Blues\")))(255)"
   ]
  },
  {
   "cell_type": "code",
   "execution_count": 9,
   "metadata": {},
   "outputs": [
    {
     "data": {
      "image/png": "[encoded data removed]",
      "text/plain": [
       "plot without title"
      ]
     },
     "metadata": {},
     "output_type": "display_data"
    }
   ],
   "source": [
    "pheatmap(distalDistsMatrix,\n",
    "         clustering_distance_rows=distalDists,\n",
    "         clustering_distance_cols=distalDists,\n",
    "         col=colors)"
   ]
  },
  {
   "cell_type": "code",
   "execution_count": 10,
   "metadata": {},
   "outputs": [
    {
     "data": {
      "image/png": "[encoded data removed]",
      "text/plain": [
       "plot without title"
      ]
     },
     "metadata": {},
     "output_type": "display_data"
    }
   ],
   "source": [
    "pheatmap(promoterDistsMatrix,\n",
    "         clustering_distance_rows=promoterDists,\n",
    "         clustering_distance_cols=promoterDists,\n",
    "         col=colors)"
   ]
  },
  {
   "cell_type": "code",
   "execution_count": null,
   "metadata": {},
   "outputs": [],
   "source": []
  }
 ],
 "metadata": {
  "kernelspec": {
   "display_name": "R",
   "language": "R",
   "name": "ir"
  },
  "language_info": {
   "codemirror_mode": "r",
   "file_extension": ".r",
   "mimetype": "text/x-r-source",
   "name": "R",
   "pygments_lexer": "r",
   "version": "3.5.1"
  }
 },
 "nbformat": 4,
 "nbformat_minor": 4
}
