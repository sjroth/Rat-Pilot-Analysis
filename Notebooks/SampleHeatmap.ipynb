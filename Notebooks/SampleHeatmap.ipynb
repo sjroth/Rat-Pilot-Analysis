{
 "cells": [
  {
   "cell_type": "code",
   "execution_count": 1,
   "metadata": {
    "collapsed": true,
    "jupyter": {
     "outputs_hidden": true
    }
   },
   "outputs": [
    {
     "name": "stderr",
     "output_type": "stream",
     "text": [
      "Loading required package: S4Vectors\n",
      "Loading required package: stats4\n",
      "Loading required package: BiocGenerics\n",
      "Loading required package: parallel\n",
      "\n",
      "Attaching package: ‘BiocGenerics’\n",
      "\n",
      "The following objects are masked from ‘package:parallel’:\n",
      "\n",
      "    clusterApply, clusterApplyLB, clusterCall, clusterEvalQ,\n",
      "    clusterExport, clusterMap, parApply, parCapply, parLapply,\n",
      "    parLapplyLB, parRapply, parSapply, parSapplyLB\n",
      "\n",
      "The following objects are masked from ‘package:stats’:\n",
      "\n",
      "    IQR, mad, sd, var, xtabs\n",
      "\n",
      "The following objects are masked from ‘package:base’:\n",
      "\n",
      "    anyDuplicated, append, as.data.frame, basename, cbind, colnames,\n",
      "    dirname, do.call, duplicated, eval, evalq, Filter, Find, get, grep,\n",
      "    grepl, intersect, is.unsorted, lapply, Map, mapply, match, mget,\n",
      "    order, paste, pmax, pmax.int, pmin, pmin.int, Position, rank,\n",
      "    rbind, Reduce, rownames, sapply, setdiff, sort, table, tapply,\n",
      "    union, unique, unsplit, which, which.max, which.min\n",
      "\n",
      "\n",
      "Attaching package: ‘S4Vectors’\n",
      "\n",
      "The following object is masked from ‘package:base’:\n",
      "\n",
      "    expand.grid\n",
      "\n",
      "Loading required package: IRanges\n",
      "Loading required package: GenomicRanges\n",
      "Loading required package: GenomeInfoDb\n",
      "Loading required package: SummarizedExperiment\n",
      "Loading required package: Biobase\n",
      "Welcome to Bioconductor\n",
      "\n",
      "    Vignettes contain introductory material; view with\n",
      "    'browseVignettes()'. To cite Bioconductor, see\n",
      "    'citation(\"Biobase\")', and for packages 'citation(\"pkgname\")'.\n",
      "\n",
      "Loading required package: DelayedArray\n",
      "Loading required package: matrixStats\n",
      "\n",
      "Attaching package: ‘matrixStats’\n",
      "\n",
      "The following objects are masked from ‘package:Biobase’:\n",
      "\n",
      "    anyMissing, rowMedians\n",
      "\n",
      "Loading required package: BiocParallel\n",
      "\n",
      "Attaching package: ‘DelayedArray’\n",
      "\n",
      "The following objects are masked from ‘package:matrixStats’:\n",
      "\n",
      "    colMaxs, colMins, colRanges, rowMaxs, rowMins, rowRanges\n",
      "\n",
      "The following objects are masked from ‘package:base’:\n",
      "\n",
      "    aperm, apply, rowsum\n",
      "\n"
     ]
    }
   ],
   "source": [
    "library('DESeq2')\n",
    "library('RColorBrewer')\n",
    "library(\"pheatmap\")"
   ]
  },
  {
   "cell_type": "markdown",
   "metadata": {},
   "source": [
    "Load and format expression file"
   ]
  },
  {
   "cell_type": "code",
   "execution_count": null,
   "metadata": {},
   "outputs": [],
   "source": [
    "all_exp <- read.csv('../../../Rat-Pilot/atac-data/tag_directories/ml.rlog.txt',sep='\\t',\n",
    "                    col.names=c('PeakID','Chr','Start','End','Strand','Peak.Score','Focus.Ratio.Region.Size','Annotation',\n",
    "                                'Detailed.Annotation','Distance.to.TSS','Nearest.PromoterID','Entrez.ID','Nearest.Unigene',\n",
    "                                'Nearest.Refseq','Nearest.Ensembl','Gene.Name','Gene.Alias','Gene.Description','Gene.Type','IL','PL',\n",
    "                                'ST','AC','AS','VTA'))\n",
    "all_exp$Annotation <- toupper(all_exp$Annotation)\n",
    "head(all_exp)"
   ]
  },
  {
   "cell_type": "code",
   "execution_count": 2,
   "metadata": {},
   "outputs": [
    {
     "data": {
      "text/html": [
       "<table>\n",
       "<caption>A data.frame: 6 × 33</caption>\n",
       "<thead>\n",
       "\t<tr><th scope=col>PeakID</th><th scope=col>Chr</th><th scope=col>Start</th><th scope=col>End</th><th scope=col>Strand</th><th scope=col>Peak.Score</th><th scope=col>Focus.Ratio.Region.Size</th><th scope=col>Annotation</th><th scope=col>Detailed.Annotation</th><th scope=col>Distance.to.TSS</th><th scope=col>⋯</th><th scope=col>PFC.r1</th><th scope=col>PFC.r2</th><th scope=col>PL.r1</th><th scope=col>PL.r1.1</th><th scope=col>Shell.r1</th><th scope=col>Shell.r2</th><th scope=col>Striatum.r1</th><th scope=col>Striatum.r2</th><th scope=col>VTA.r1</th><th scope=col>VTA.r2</th></tr>\n",
       "\t<tr><th scope=col>&lt;fct&gt;</th><th scope=col>&lt;fct&gt;</th><th scope=col>&lt;int&gt;</th><th scope=col>&lt;int&gt;</th><th scope=col>&lt;fct&gt;</th><th scope=col>&lt;dbl&gt;</th><th scope=col>&lt;lgl&gt;</th><th scope=col>&lt;fct&gt;</th><th scope=col>&lt;fct&gt;</th><th scope=col>&lt;int&gt;</th><th scope=col>⋯</th><th scope=col>&lt;dbl&gt;</th><th scope=col>&lt;dbl&gt;</th><th scope=col>&lt;dbl&gt;</th><th scope=col>&lt;dbl&gt;</th><th scope=col>&lt;dbl&gt;</th><th scope=col>&lt;dbl&gt;</th><th scope=col>&lt;dbl&gt;</th><th scope=col>&lt;dbl&gt;</th><th scope=col>&lt;dbl&gt;</th><th scope=col>&lt;dbl&gt;</th></tr>\n",
       "</thead>\n",
       "<tbody>\n",
       "\t<tr><td>Merged-chr2-198589905-9 </td><td>chr2 </td><td>198589687</td><td>198590119</td><td>+</td><td>745.3555</td><td>NA</td><td>Intergenic                            </td><td>Intergenic                 </td><td>  -65534</td><td>⋯</td><td>10.765769</td><td>10.435554</td><td>11.061045</td><td>10.844020</td><td>10.237402</td><td>10.110829</td><td>10.422173</td><td>10.161160</td><td>10.117088</td><td>10.473301</td></tr>\n",
       "\t<tr><td>Merged-chr4-77448184-14 </td><td>chr4 </td><td> 77447678</td><td> 77448738</td><td>+</td><td>447.3143</td><td>NA</td><td>Intergenic                            </td><td>CpG                        </td><td>   41327</td><td>⋯</td><td>10.151998</td><td>10.091416</td><td>10.280480</td><td>10.209139</td><td>10.355921</td><td>10.374967</td><td>10.217871</td><td>10.118787</td><td>10.111968</td><td>10.529637</td></tr>\n",
       "\t<tr><td>Merged-chr13-33505050-14</td><td>chr13</td><td> 33504525</td><td> 33505583</td><td>+</td><td>398.7000</td><td>NA</td><td>Intergenic                            </td><td>ISAT_RN|Satellite|Satellite</td><td>  746596</td><td>⋯</td><td> 9.632409</td><td> 9.776200</td><td> 9.627039</td><td> 9.584468</td><td> 9.984825</td><td> 9.668963</td><td> 9.430331</td><td> 9.173537</td><td>10.730656</td><td>10.340115</td></tr>\n",
       "\t<tr><td>Merged-chr19-56338619-15</td><td>chr19</td><td> 56338111</td><td> 56339202</td><td>+</td><td>290.6933</td><td>NA</td><td>Intergenic                            </td><td>Intergenic                 </td><td>   22212</td><td>⋯</td><td> 9.980468</td><td>10.106323</td><td>10.284485</td><td>10.224314</td><td>10.207464</td><td>10.241525</td><td> 9.679577</td><td> 9.639002</td><td>10.797638</td><td>10.381749</td></tr>\n",
       "\t<tr><td>Merged-chr1-11911002-10 </td><td>chr1 </td><td> 11910576</td><td> 11911430</td><td>+</td><td>175.9000</td><td>NA</td><td>intron (NM_001025002, intron 6 of 6).2</td><td>CpG                        </td><td>    3537</td><td>⋯</td><td> 8.484502</td><td> 8.590042</td><td> 8.884085</td><td> 9.012024</td><td> 9.093937</td><td> 8.962666</td><td> 8.684457</td><td> 8.939433</td><td> 8.695265</td><td> 8.730685</td></tr>\n",
       "\t<tr><td>Merged-chr1-180646041-14</td><td>chr1 </td><td>180645500</td><td>180646558</td><td>+</td><td>151.1143</td><td>NA</td><td>Intergenic                            </td><td>SATI_RN|Satellite|Satellite</td><td>-1635772</td><td>⋯</td><td> 8.316101</td><td> 8.451257</td><td> 8.234427</td><td> 8.431929</td><td> 8.721477</td><td> 8.396357</td><td> 8.154674</td><td> 7.718391</td><td> 9.255345</td><td> 8.952389</td></tr>\n",
       "</tbody>\n",
       "</table>\n"
      ],
      "text/latex": [
       "A data.frame: 6 × 33\n",
       "\\begin{tabular}{r|lllllllllllllllllllllllllllllllll}\n",
       " PeakID & Chr & Start & End & Strand & Peak.Score & Focus.Ratio.Region.Size & Annotation & Detailed.Annotation & Distance.to.TSS & Nearest.PromoterID & Entrez.ID & Nearest.Unigene & Nearest.Refseq & Nearest.Ensembl & Gene.Name & Gene.Alias & Gene.Description & Gene.Type & Core.r1 & Core.r2 & IP.r1 & IP.r2 & PFC.r1 & PFC.r2 & PL.r1 & PL.r1.1 & Shell.r1 & Shell.r2 & Striatum.r1 & Striatum.r2 & VTA.r1 & VTA.r2\\\\\n",
       " <fct> & <fct> & <int> & <int> & <fct> & <dbl> & <lgl> & <fct> & <fct> & <int> & <fct> & <int> & <fct> & <fct> & <fct> & <fct> & <fct> & <fct> & <fct> & <dbl> & <dbl> & <dbl> & <dbl> & <dbl> & <dbl> & <dbl> & <dbl> & <dbl> & <dbl> & <dbl> & <dbl> & <dbl> & <dbl>\\\\\n",
       "\\hline\n",
       "\t Merged-chr2-198589905-9  & chr2  & 198589687 & 198590119 & + & 745.3555 & NA & Intergenic                             & Intergenic                  &   -65534 & NM\\_001012080 & 310681 & Rn.22490  & NM\\_001012080 & ENSRNOG00000021200 & Hjv       & Hfe2\\textbar{}Rgmc                    & hemojuvelin BMP co-receptor                    & protein-coding & 10.162337 & 10.517918 & 11.153771 & 10.678155 & 10.765769 & 10.435554 & 11.061045 & 10.844020 & 10.237402 & 10.110829 & 10.422173 & 10.161160 & 10.117088 & 10.473301\\\\\n",
       "\t Merged-chr4-77448184-14  & chr4  &  77447678 &  77448738 & + & 447.3143 & NA & Intergenic                             & CpG                         &    41327 & NM\\_053849    & 116598 & Rn.39305  & NM\\_053849    & ENSRNOG00000006228 & Pdia4     & ERp-72\\textbar{}Erp70\\textbar{}Erp72           & protein disulfide isomerase family A, member 4 & protein-coding & 10.331751 & 10.379494 & 10.597919 & 10.579615 & 10.151998 & 10.091416 & 10.280480 & 10.209139 & 10.355921 & 10.374967 & 10.217871 & 10.118787 & 10.111968 & 10.529637\\\\\n",
       "\t Merged-chr13-33505050-14 & chr13 &  33504525 &  33505583 & + & 398.7000 & NA & Intergenic                             & ISAT\\_RN\\textbar{}Satellite\\textbar{}Satellite &   746596 & NM\\_021762    &  60381 & Rn.156195 & NM\\_021762    & ENSRNOG00000002319 & Tsn       & -                            & translin                                       & protein-coding &  9.765513 &  9.614132 & 10.054102 &  9.917890 &  9.632409 &  9.776200 &  9.627039 &  9.584468 &  9.984825 &  9.668963 &  9.430331 &  9.173537 & 10.730656 & 10.340115\\\\\n",
       "\t Merged-chr19-56338619-15 & chr19 &  56338111 &  56339202 & + & 290.6933 & NA & Intergenic                             & Intergenic                  &    22212 & NM\\_001039030 & 361438 & Rn.209051 & NM\\_001039030 & ENSRNOG00000026964 & Gas8      & -                            & growth arrest specific 8                       & protein-coding & 10.143852 & 10.112398 & 10.486724 & 10.346913 &  9.980468 & 10.106323 & 10.284485 & 10.224314 & 10.207464 & 10.241525 &  9.679577 &  9.639002 & 10.797638 & 10.381749\\\\\n",
       "\t Merged-chr1-11911002-10  & chr1  &  11910576 &  11911430 & + & 175.9000 & NA & intron (NM\\_001025002, intron 6 of 6).2 & CpG                         &     3537 & NM\\_001025002 & 310926 &           & NM\\_001025002 &                    & LOC310926 & Aa1011\\textbar{}Aa1262\\textbar{}Ab2-057\\textbar{}Ac1147 & hypothetical protein LOC310926                 & protein-coding &  9.128995 &  9.280796 &  9.130306 &  9.196383 &  8.484502 &  8.590042 &  8.884085 &  9.012024 &  9.093937 &  8.962666 &  8.684457 &  8.939433 &  8.695265 &  8.730685\\\\\n",
       "\t Merged-chr1-180646041-14 & chr1  & 180645500 & 180646558 & + & 151.1143 & NA & Intergenic                             & SATI\\_RN\\textbar{}Satellite\\textbar{}Satellite & -1635772 & NM\\_001013434 & 365355 & Rn.3271   & NM\\_001013434 & ENSRNOG00000012258 & Rras2     & -                            & RAS related 2                                  & protein-coding &  8.457300 &  8.339403 &  8.862132 &  8.612906 &  8.316101 &  8.451257 &  8.234427 &  8.431929 &  8.721477 &  8.396357 &  8.154674 &  7.718391 &  9.255345 &  8.952389\\\\\n",
       "\\end{tabular}\n"
      ],
      "text/markdown": [
       "\n",
       "A data.frame: 6 × 33\n",
       "\n",
       "| PeakID &lt;fct&gt; | Chr &lt;fct&gt; | Start &lt;int&gt; | End &lt;int&gt; | Strand &lt;fct&gt; | Peak.Score &lt;dbl&gt; | Focus.Ratio.Region.Size &lt;lgl&gt; | Annotation &lt;fct&gt; | Detailed.Annotation &lt;fct&gt; | Distance.to.TSS &lt;int&gt; | ⋯ ⋯ | PFC.r1 &lt;dbl&gt; | PFC.r2 &lt;dbl&gt; | PL.r1 &lt;dbl&gt; | PL.r1.1 &lt;dbl&gt; | Shell.r1 &lt;dbl&gt; | Shell.r2 &lt;dbl&gt; | Striatum.r1 &lt;dbl&gt; | Striatum.r2 &lt;dbl&gt; | VTA.r1 &lt;dbl&gt; | VTA.r2 &lt;dbl&gt; |\n",
       "|---|---|---|---|---|---|---|---|---|---|---|---|---|---|---|---|---|---|---|---|---|\n",
       "| Merged-chr2-198589905-9  | chr2  | 198589687 | 198590119 | + | 745.3555 | NA | Intergenic                             | Intergenic                  |   -65534 | ⋯ | 10.765769 | 10.435554 | 11.061045 | 10.844020 | 10.237402 | 10.110829 | 10.422173 | 10.161160 | 10.117088 | 10.473301 |\n",
       "| Merged-chr4-77448184-14  | chr4  |  77447678 |  77448738 | + | 447.3143 | NA | Intergenic                             | CpG                         |    41327 | ⋯ | 10.151998 | 10.091416 | 10.280480 | 10.209139 | 10.355921 | 10.374967 | 10.217871 | 10.118787 | 10.111968 | 10.529637 |\n",
       "| Merged-chr13-33505050-14 | chr13 |  33504525 |  33505583 | + | 398.7000 | NA | Intergenic                             | ISAT_RN|Satellite|Satellite |   746596 | ⋯ |  9.632409 |  9.776200 |  9.627039 |  9.584468 |  9.984825 |  9.668963 |  9.430331 |  9.173537 | 10.730656 | 10.340115 |\n",
       "| Merged-chr19-56338619-15 | chr19 |  56338111 |  56339202 | + | 290.6933 | NA | Intergenic                             | Intergenic                  |    22212 | ⋯ |  9.980468 | 10.106323 | 10.284485 | 10.224314 | 10.207464 | 10.241525 |  9.679577 |  9.639002 | 10.797638 | 10.381749 |\n",
       "| Merged-chr1-11911002-10  | chr1  |  11910576 |  11911430 | + | 175.9000 | NA | intron (NM_001025002, intron 6 of 6).2 | CpG                         |     3537 | ⋯ |  8.484502 |  8.590042 |  8.884085 |  9.012024 |  9.093937 |  8.962666 |  8.684457 |  8.939433 |  8.695265 |  8.730685 |\n",
       "| Merged-chr1-180646041-14 | chr1  | 180645500 | 180646558 | + | 151.1143 | NA | Intergenic                             | SATI_RN|Satellite|Satellite | -1635772 | ⋯ |  8.316101 |  8.451257 |  8.234427 |  8.431929 |  8.721477 |  8.396357 |  8.154674 |  7.718391 |  9.255345 |  8.952389 |\n",
       "\n"
      ],
      "text/plain": [
       "  PeakID                   Chr   Start     End       Strand Peak.Score\n",
       "1 Merged-chr2-198589905-9  chr2  198589687 198590119 +      745.3555  \n",
       "2 Merged-chr4-77448184-14  chr4   77447678  77448738 +      447.3143  \n",
       "3 Merged-chr13-33505050-14 chr13  33504525  33505583 +      398.7000  \n",
       "4 Merged-chr19-56338619-15 chr19  56338111  56339202 +      290.6933  \n",
       "5 Merged-chr1-11911002-10  chr1   11910576  11911430 +      175.9000  \n",
       "6 Merged-chr1-180646041-14 chr1  180645500 180646558 +      151.1143  \n",
       "  Focus.Ratio.Region.Size Annotation                            \n",
       "1 NA                      Intergenic                            \n",
       "2 NA                      Intergenic                            \n",
       "3 NA                      Intergenic                            \n",
       "4 NA                      Intergenic                            \n",
       "5 NA                      intron (NM_001025002, intron 6 of 6).2\n",
       "6 NA                      Intergenic                            \n",
       "  Detailed.Annotation         Distance.to.TSS ⋯ PFC.r1    PFC.r2    PL.r1    \n",
       "1 Intergenic                    -65534        ⋯ 10.765769 10.435554 11.061045\n",
       "2 CpG                            41327        ⋯ 10.151998 10.091416 10.280480\n",
       "3 ISAT_RN|Satellite|Satellite   746596        ⋯  9.632409  9.776200  9.627039\n",
       "4 Intergenic                     22212        ⋯  9.980468 10.106323 10.284485\n",
       "5 CpG                             3537        ⋯  8.484502  8.590042  8.884085\n",
       "6 SATI_RN|Satellite|Satellite -1635772        ⋯  8.316101  8.451257  8.234427\n",
       "  PL.r1.1   Shell.r1  Shell.r2  Striatum.r1 Striatum.r2 VTA.r1    VTA.r2   \n",
       "1 10.844020 10.237402 10.110829 10.422173   10.161160   10.117088 10.473301\n",
       "2 10.209139 10.355921 10.374967 10.217871   10.118787   10.111968 10.529637\n",
       "3  9.584468  9.984825  9.668963  9.430331    9.173537   10.730656 10.340115\n",
       "4 10.224314 10.207464 10.241525  9.679577    9.639002   10.797638 10.381749\n",
       "5  9.012024  9.093937  8.962666  8.684457    8.939433    8.695265  8.730685\n",
       "6  8.431929  8.721477  8.396357  8.154674    7.718391    9.255345  8.952389"
      ]
     },
     "metadata": {},
     "output_type": "display_data"
    }
   ],
   "source": [
    "distal_exp <- read.csv('../../../Rat-Pilot/atac-data/tag_directories/all_peaks.distal.rlog.txt',sep='\\t',\n",
    "                       col.names=c('PeakID','Chr','Start','End','Strand','Peak.Score','Focus.Ratio.Region.Size','Annotation',\n",
    "                                   'Detailed.Annotation','Distance.to.TSS','Nearest.PromoterID','Entrez.ID','Nearest.Unigene',\n",
    "                                   'Nearest.Refseq','Nearest.Ensembl','Gene.Name','Gene.Alias','Gene.Description','Gene.Type','Core.r1',\n",
    "                                   'Core.r2','IP.r1','IP.r2','PFC.r1','PFC.r2','PL.r1','PL.r1','Shell.r1','Shell.r2','Striatum.r1',\n",
    "                                   'Striatum.r2','VTA.r1','VTA.r2'))\n",
    "head(distal_exp)"
   ]
  },
  {
   "cell_type": "markdown",
   "metadata": {},
   "source": [
    "Subset annotations by region"
   ]
  },
  {
   "cell_type": "code",
   "execution_count": null,
   "metadata": {},
   "outputs": [],
   "source": [
    "promoter <- subset(all_exp,grepl('PROMOTER',all_exp$Annotation))"
   ]
  },
  {
   "cell_type": "markdown",
   "metadata": {},
   "source": [
    "Format dataframe for heatmap"
   ]
  },
  {
   "cell_type": "code",
   "execution_count": 3,
   "metadata": {},
   "outputs": [],
   "source": [
    "#Set PeakID as the rownames\n",
    "#rownames(promoter) <- promoter$PeakID\n",
    "#promoter$PeakID <- NULL\n",
    "\n",
    "rownames(distal_exp) <- distal_exp$PeakID\n",
    "distal_exp$PeakID <- NULL"
   ]
  },
  {
   "cell_type": "code",
   "execution_count": 4,
   "metadata": {},
   "outputs": [],
   "source": [
    "#Limit dataframe to experiments.\n",
    "#promoter <- promoter[,c(19:24)]\n",
    "\n",
    "distal_exp <- distal_exp[,c(19:32)]"
   ]
  },
  {
   "cell_type": "code",
   "execution_count": 5,
   "metadata": {},
   "outputs": [],
   "source": [
    "#Get sample distances.\n",
    "#promoterDists <- dist(t(promoter))\n",
    "#promoterDistsMatrix <- as.matrix(promoterDists)\n",
    "#colnames(promoterDistsMatrix) <- NULL\n",
    "\n",
    "distalDists <- dist(t(distal_exp))\n",
    "distalDistsMatrix <- as.matrix(distalDists)\n",
    "colnames(distalDistsMatrix) <- NULL"
   ]
  },
  {
   "cell_type": "markdown",
   "metadata": {},
   "source": [
    "Plot heatmap"
   ]
  },
  {
   "cell_type": "code",
   "execution_count": 6,
   "metadata": {},
   "outputs": [],
   "source": [
    "colors <- colorRampPalette(rev(brewer.pal(6,\"Blues\")))(255)"
   ]
  },
  {
   "cell_type": "code",
   "execution_count": 7,
   "metadata": {},
   "outputs": [
    {
     "data": {
      "image/png": "[encoded data removed]",
      "text/plain": [
       "plot without title"
      ]
     },
     "metadata": {},
     "output_type": "display_data"
    }
   ],
   "source": [
    "pheatmap(distalDistsMatrix,\n",
    "         clustering_distance_rows=distalDists,\n",
    "         clustering_distance_cols=distalDists,\n",
    "         col=colors)"
   ]
  },
  {
   "cell_type": "code",
   "execution_count": null,
   "metadata": {},
   "outputs": [],
   "source": [
    "pheatmap(promoterDistsMatrix,\n",
    "         clustering_distance_rows=promoterDists,\n",
    "         clustering_distance_cols=promoterDists,\n",
    "         col=colors)"
   ]
  },
  {
   "cell_type": "code",
   "execution_count": null,
   "metadata": {},
   "outputs": [],
   "source": []
  }
 ],
 "metadata": {
  "kernelspec": {
   "display_name": "R",
   "language": "R",
   "name": "ir"
  },
  "language_info": {
   "codemirror_mode": "r",
   "file_extension": ".r",
   "mimetype": "text/x-r-source",
   "name": "R",
   "pygments_lexer": "r",
   "version": "3.6.1"
  }
 },
 "nbformat": 4,
 "nbformat_minor": 4
}
